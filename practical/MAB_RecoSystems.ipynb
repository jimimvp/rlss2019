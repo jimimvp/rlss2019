{
 "cells": [
  {
   "cell_type": "markdown",
   "metadata": {
    "colab_type": "text",
    "id": "TZbmTGNcECt-"
   },
   "source": [
    "# Bandits for Recommendation - RLSS 2019"
   ]
  },
  {
   "cell_type": "markdown",
   "metadata": {
    "colab_type": "text",
    "id": "PdgfHet3ECuC"
   },
   "source": [
    "For conveniency slides used for presentation are available on https://www.dropbox.com/s/6px7a37qddstgtn/RLSS.pdf?dl=0\n",
    "\n",
    "The objective of this notebook is to apply the bandits algorithms to recommendation problem using a simulated envrionment. Although in practice you would also use the real data, the complexity of the recommendation problem and the associated algorithmic challenges can already be revealed even in this simple setting."
   ]
  },
  {
   "cell_type": "markdown",
   "metadata": {
    "colab_type": "text",
    "id": "y2vDGu5BECuC"
   },
   "source": [
    "![RecSys](https://github.com/yfletberliac/rlss2019-hands-on/blob/master/imgs/recsys_scheme.png?raw=1)"
   ]
  },
  {
   "cell_type": "markdown",
   "metadata": {
    "colab_type": "text",
    "id": "dtKZsfqDECuD"
   },
   "source": [
    "## Controlled recommendation environment\n",
    "\n",
    "In the simulated environment, user browsers a web-site and might click on recommendation served by a recommendation agent. The goal of the agent is to maximize the number of clicks. The simulation is going to be a little bit more involved that ideal situation from the previous TP. In particular we are going to work on a stream of user which are also generating some \"organic\" observations, meaning that you collect some browsing events and have to perform some recommendations until the user decides to leave."
   ]
  },
  {
   "cell_type": "markdown",
   "metadata": {
    "colab_type": "text",
    "id": "Objc3pWxECuE"
   },
   "source": [
    "### Define action, observation, reward\n",
    "\n",
    "* Action -- a recommended item (e.g., in e-commerce it can be a product). Here the simulator will be set to have 100 possible products\n",
    "* Reward -- user interaction with the recommendation (e.g., a click)\n",
    "* Observation -- user activity (e.g., list of products that user has visited during his/her browsing session). Here we report only \"organic\" event which are not the recommended item and can occur even if the recommendation was not used."
   ]
  },
  {
   "cell_type": "code",
   "execution_count": 1,
   "metadata": {
    "colab": {},
    "colab_type": "code",
    "id": "5UsgA9xQECuF"
   },
   "outputs": [],
   "source": [
    "# If you are running this notebook on Colab, setup with the following:\n",
    "#!git clone https://github.com/yfletberliac/rlss2019-hands-on.git > /dev/null 2>&1\n",
    "import sys\n",
    "#sys.path.insert(0, './rlss2019-hands-on/utils/rec_systems')\n",
    "# If using the notebook locally, replace by:\n",
    "sys.path.insert(0, './bandits_reco_class_sujet')"
   ]
  },
  {
   "cell_type": "code",
   "execution_count": 2,
   "metadata": {
    "colab": {},
    "colab_type": "code",
    "id": "MpDBVaR3ECuI"
   },
   "outputs": [
    {
     "name": "stdout",
     "output_type": "stream",
     "text": [
      "Step: 0 - Action: {'a': 66, 'ps': 0.01} - Observation: [] - Reward: 0\n",
      "Step: 1 - Action: {'a': 92, 'ps': 0.01} - Observation: [] - Reward: 0\n",
      "Step: 2 - Action: {'a': 98, 'ps': 0.01} - Observation: [] - Reward: 0\n",
      "Step: 3 - Action: {'a': 17, 'ps': 0.01} - Observation: [] - Reward: 0\n",
      "Step: 4 - Action: {'a': 83, 'ps': 0.01} - Observation: [72, 27, 27, 12] - Reward: 0\n",
      "Step: 5 - Action: {'a': 57, 'ps': 0.01} - Observation: [] - Reward: 0\n",
      "Step: 6 - Action: {'a': 86, 'ps': 0.01} - Observation: [] - Reward: 0\n",
      "Step: 7 - Action: {'a': 97, 'ps': 0.01} - Observation: [] - Reward: 0\n"
     ]
    }
   ],
   "source": [
    "from reco_env import RecoEnv, env_1_args\n",
    "from configuration import Configuration\n",
    "from agent import Agent, RandomAgent, random_args\n",
    "\n",
    "# you can overwrite environment arguments here\n",
    "RND_SEED = 1234\n",
    "env_1_args['random_seed'] = RND_SEED\n",
    "\n",
    "# create environment with configuration\n",
    "env = RecoEnv(Configuration({\n",
    "            **env_1_args,\n",
    "}))\n",
    "env.reset()\n",
    "\n",
    "# random agent\n",
    "rand_agent = RandomAgent(Configuration({\n",
    "    **random_args,    \n",
    "}))\n",
    "\n",
    "# counting steps\n",
    "i = 0\n",
    "\n",
    "observation, _, _, _ = env.step(None)\n",
    "reward, done = 0, False\n",
    "while not done:\n",
    "    # choose action given current observation\n",
    "    action = rand_agent.act(observation)            \n",
    "    # execute action in the environment\n",
    "    observation, reward, done, info = env.step(action['a'])\n",
    "    print(f\"Step: {i} - Action: {action} - Observation: {observation} - Reward: {reward}\")\n",
    "    i += 1"
   ]
  },
  {
   "cell_type": "markdown",
   "metadata": {
    "colab_type": "text",
    "id": "kDCZ0D_-ECuN"
   },
   "source": [
    "### Simulation of user response to recommendation\n",
    "\n",
    "User response to recommendation is modeled as a function of (1) affinity of user to recommended product, and (2) correction due to the recommendation. \n",
    "\n",
    "$\\mu(u,p,t) := f(\\Lambda(u,p,t) + \\epsilon(u,p,t))$,\n",
    "\n",
    "where $f$ is an increasing function, $\\Lambda(u,p,t)$ is the log odds of user $u$ being interested by product $a$ at time $t$, $\\epsilon(u,p,t))$ is a zero mean correction.\n",
    "\n",
    "Assuming the latent space for user and product, let $\\omega \\in \\mathbb{R}^K$ be the latent representation of user $u$ of size $K$, $\\beta \\in \\mathbb{R}^K$ is the latent reprentation of product $p$, then user response on recommendation can be modeled as\n",
    "\n",
    "$\\mu(u,p,t) := \\text{sigmoid}(\\beta^T \\omega + \\mu_\\epsilon)$, \n",
    "\n",
    "where $\\omega_i = \\mathcal{N}(0, \\sigma^2_\\omega)$, $\\beta_i = \\mathcal{N}(0, 1)$, $\\mu_\\epsilon = \\mathcal{N}(0, \\sigma^2_\\mu)$.\n",
    "\n",
    "In advertisement, typical values for $\\mu(u,p,t)$ are around $0.02$."
   ]
  },
  {
   "cell_type": "markdown",
   "metadata": {
    "colab_type": "text",
    "id": "O0ezNl2UECuN"
   },
   "source": [
    "## Online learning using recommendation environment"
   ]
  },
  {
   "cell_type": "markdown",
   "metadata": {
    "colab_type": "text",
    "id": "oYkFU0A3ECuO"
   },
   "source": [
    "We introduce functions that train, evaluate and plot the evaluation metrics of recommendation agents."
   ]
  },
  {
   "cell_type": "code",
   "execution_count": 3,
   "metadata": {
    "colab": {},
    "colab_type": "code",
    "id": "cieCd8chECuP"
   },
   "outputs": [
    {
     "name": "stdout",
     "output_type": "stream",
     "text": [
      "Help on function train_eval_agents in module train_eval_utils:\n",
      "\n",
      "train_eval_agents(agents, config, num_train_users, num_eval_users)\n",
      "    Trains and evaluates a list of agents on a given number of users\n",
      "    \n",
      "    :param agents: list of agents to evaluate\n",
      "    :param config: configuration of recommendation environment\n",
      "    :param num_train_users: number of train users\n",
      "    :param num_eval_users: number of evaluation users\n",
      "    :return dataframe containing agent class, 50% quantile of CTR, 2.5% quantile of CTR, 97.5% quantile of CTR, execution time\n",
      "\n",
      "Help on function plot_ctr in module train_eval_utils:\n",
      "\n",
      "plot_ctr(eval_ctr)\n",
      "    Plots agents average CTR and confidence interval\n",
      "    \n",
      "    :param eval_ctr: dataframe containing agent class, 50% quantile of CTR, 2.5% quantile of CTR, 97.5% quantile of CTR\n",
      "\n"
     ]
    }
   ],
   "source": [
    "from train_eval_utils import train_eval_agents, plot_ctr\n",
    "\n",
    "help(train_eval_agents)\n",
    "help(plot_ctr)"
   ]
  },
  {
   "cell_type": "markdown",
   "metadata": {
    "colab_type": "text",
    "id": "28fCIptNECuR"
   },
   "source": [
    "## Bandits"
   ]
  },
  {
   "cell_type": "markdown",
   "metadata": {
    "colab_type": "text",
    "id": "FO-De_H7ECuR"
   },
   "source": [
    "Code bandits algorithms that you have already seen in the class. In this part the simulator is configured in a such way that we are actually facing the stochastic bandit setting: all the users are the same and their preferences are not evolving."
   ]
  },
  {
   "cell_type": "markdown",
   "metadata": {
    "colab_type": "text",
    "id": "zMTchTgBECuS"
   },
   "source": [
    "### UCB algorithm [Auer 2002]"
   ]
  },
  {
   "cell_type": "markdown",
   "metadata": {
    "colab_type": "text",
    "id": "o7WsPDFgECuT"
   },
   "source": [
    "Code the agent that runs the UCB algorithm for product click-through rate (number of clicks / number of displays)."
   ]
  },
  {
   "cell_type": "markdown",
   "metadata": {
    "colab_type": "text",
    "id": "VwTTpCDPECuT"
   },
   "source": [
    "* First, we provide the code for bound based on Hoeffding inequality\n",
    "\n",
    "$I_k = argmax_k \\hat{\\mu}_{k,n} + \\sqrt{\\frac{2 \\log t}{n}}$\n",
    "\n",
    "\n",
    "* Then, improve by tuning $\\alpha$ \n",
    "\n",
    "$I_k = argmax_k \\hat{\\mu}_{k,n} + \\alpha \\sqrt{\\frac{2 \\log t}{n}}$\n",
    "\n",
    "* Finally, use the fact that click is a Bernoulli random variable to obtain a sharper bound"
   ]
  },
  {
   "cell_type": "code",
   "execution_count": 9,
   "metadata": {
    "colab": {},
    "colab_type": "code",
    "id": "72yX5Fw3ECuU"
   },
   "outputs": [],
   "source": [
    "import numpy as np\n",
    "\n",
    "# Implement an Agent interface\n",
    "class AlphaUCBAgent(Agent):\n",
    "    def __init__(self, config):\n",
    "        super(AlphaUCBAgent, self).__init__(config)\n",
    "\n",
    "        # Init with ones to avoid division by zero\n",
    "        self.product_rewards = np.zeros(self.config.num_products, dtype=np.float32)\n",
    "        self.product_counts = np.ones(self.config.num_products, dtype=np.float32)       \n",
    "        # alpha parameter (already tuned)\n",
    "        self.alpha = 0.01        \n",
    "        \n",
    "    def train(self, observation, action, reward, done):\n",
    "        \"\"\"Train from observed data\"\"\"\n",
    "\n",
    "        if reward is not None and action is not None:\n",
    "            self.product_rewards[action] += reward\n",
    "            self.product_counts[action] += 1\n",
    "\n",
    "    def act(self, observation):\n",
    "        \"\"\"Return an action given current observation\"\"\"\n",
    "        \n",
    "        t = sum(self.product_counts)\n",
    "        ucb = self.product_rewards / t + self.alpha * np.sqrt(2.0*np.log(t)/self.product_counts)\n",
    "        action = np.argmax(ucb)\n",
    "\n",
    "        return { 'a': action }"
   ]
  },
  {
   "cell_type": "code",
   "execution_count": 14,
   "metadata": {
    "colab": {},
    "colab_type": "code",
    "id": "Dtwxvq0BECuW"
   },
   "outputs": [],
   "source": [
    "from scipy.stats.distributions import beta\n",
    "\n",
    "def ucb_bound(num_clicks, num_displays):\n",
    "    q = .99\n",
    "    return beta.ppf(q, num_clicks, num_displays)\n",
    "\n",
    "class BetaUCBAgent(Agent):\n",
    "    def __init__(self, config):\n",
    "        super(BetaUCBAgent, self).__init__(config)\n",
    "\n",
    "        self.product_rewards = np.zeros(self.config.num_products, dtype=np.float32)\n",
    "        self.product_counts = np.ones(self.config.num_products, dtype=np.float32)\n",
    "        \n",
    "        self.ucb_func = np.vectorize(ucb_bound)\n",
    "        \n",
    "    def train(self, observation, action, reward, done):\n",
    "        if reward is not None and action is not None:\n",
    "            self.product_rewards[action] += reward\n",
    "            self.product_counts[action] += 1\n",
    "\n",
    "    def act(self, observation):\n",
    "        ucb = self.ucb_func(self.product_rewards, self.product_counts)\n",
    "        action = np.argmax(ucb)\n",
    "\n",
    "        return { 'a': action }"
   ]
  },
  {
   "cell_type": "markdown",
   "metadata": {
    "colab_type": "text",
    "id": "fV_laKsJECuZ"
   },
   "source": [
    "### Compare UCB agents performance and running time in stochastic bandits setting\n",
    "\n",
    "* Train and evaluate UCB with Hoeffding bound and exact bound\n",
    "\n",
    "* Achieve similar performance by tuning $\\alpha$ parameter\n",
    "\n",
    "* Compare the running time"
   ]
  },
  {
   "cell_type": "code",
   "execution_count": 15,
   "metadata": {
    "colab": {},
    "colab_type": "code",
    "id": "WCqYxfuQECuc"
   },
   "outputs": [
    {
     "name": "stdout",
     "output_type": "stream",
     "text": [
      "           Agent     0.500     0.025     0.975        Time\n",
      "0    RandomAgent  0.095866  0.093602  0.098162    9.450065\n",
      "1  AlphaUCBAgent  0.347528  0.343176  0.351897   10.576081\n",
      "2   BetaUCBAgent  0.344715  0.340384  0.349062  106.047986\n"
     ]
    },
    {
     "data": {
      "image/png": "[encoded data removed]",
      "text/plain": [
       "<Figure size 432x288 with 1 Axes>"
      ]
     },
     "metadata": {
      "needs_background": "light"
     },
     "output_type": "display_data"
    }
   ],
   "source": [
    "# number of products to recommend\n",
    "num_products = 10\n",
    "# number of users for train and evaluation\n",
    "num_train_users, num_eval_users = 1000, 1000\n",
    "\n",
    "custom_args = { 'num_products': num_products,\n",
    "                'random_seed': RND_SEED,\n",
    "              }\n",
    "config = Configuration({ \n",
    "        **env_1_args,\n",
    "        **custom_args,\n",
    "})\n",
    "\n",
    "alpha_ucb_agent = AlphaUCBAgent(config)\n",
    "beta_ucb_agent = BetaUCBAgent(config)\n",
    "rand_agent = RandomAgent(config)\n",
    "\n",
    "agents = [rand_agent, alpha_ucb_agent, beta_ucb_agent]\n",
    "\n",
    "stats = train_eval_agents(agents, config, num_train_users, num_eval_users)\n",
    "print(stats)\n",
    "\n",
    "plot_ctr(stats)"
   ]
  },
  {
   "cell_type": "markdown",
   "metadata": {
    "colab_type": "text",
    "id": "DE9t_DhzECuf"
   },
   "source": [
    "### Exp3 / Boltzmann exploration algorithm"
   ]
  },
  {
   "cell_type": "markdown",
   "metadata": {
    "colab_type": "text",
    "id": "th5-Vw_FECuj"
   },
   "source": [
    "* Code the agent that runs the Exp3 / Boltzmann exploration algorithm. The adversarial setting is going to be described later in the course but you can find it on wikipedia https://en.wikipedia.org/wiki/Multi-armed_bandit#Exp3[43].\n",
    "__Remark:__ *it is possible to have a exponential speedup of the sampling unsing storing the weights in a binary tree containing partial sums, see http://timvieira.github.io/blog/post/2016/11/21/heaps-for-incremental-computation/*\n",
    "\n",
    "* Tune temperature parameter"
   ]
  },
  {
   "cell_type": "code",
   "execution_count": 69,
   "metadata": {
    "colab": {},
    "colab_type": "code",
    "id": "uHRrEdNrECuj"
   },
   "outputs": [],
   "source": [
    "from scipy.special import logsumexp\n",
    "from numpy.random import choice\n",
    "\n",
    "class Exp3Agent(Agent):\n",
    "    def __init__(self, config):\n",
    "        super(Exp3Agent, self).__init__(config)\n",
    "\n",
    "        self.product_rewards = np.zeros(self.config.num_products, dtype=np.float32)    \n",
    "        self.product_counts = np.ones(self.config.num_products, dtype=np.float32)\n",
    "        self.gamma = 100\n",
    "        self.omega = np.ones(self.config.num_products)\n",
    "        self.K = self.config.num_products\n",
    "        self.t = 1\n",
    "        \n",
    "    def train(self, observation, action, reward, done):\n",
    "        if reward is not None and action is not None:\n",
    "            self.product_rewards[action] += reward\n",
    "            self.product_counts[action] += 1\n",
    "            a = action\n",
    "            prob = self.softmax(self.product_rewards/self.product_counts*(1-self.gamma))        \n",
    "            p = prob[a]\n",
    "         \n",
    "        self.t += 1\n",
    "    \n",
    "    def log_softmax(self, vec):\n",
    "        return vec - logsumexp(vec)\n",
    "\n",
    "    def softmax(self, vec):\n",
    "        probs = np.exp(self.log_softmax(vec))\n",
    "        probs /= probs.sum()\n",
    "        return probs\n",
    "    \n",
    "    def act(self, observation):\n",
    "        # compute probability of choosing action using Boltzmann exploration\n",
    "        prob = self.softmax(self.product_rewards/self.product_counts*self.gamma)        \n",
    "     \n",
    "        # sample an action\n",
    "        action = np.random.choice(np.arange(self.K), p=prob)\n",
    "        \n",
    "#         observation = np.asarray(observation)\n",
    "#         for k in range(self.K):\n",
    "#             x_ = int(np.any(observation==k))/prob[k]\n",
    "#             self.omega[k] = self.omega[k]*np.exp(self.gamma*x_/self.K)\n",
    "        \n",
    "        return { 'a': action, 'ps': prob[action] }"
   ]
  },
  {
   "cell_type": "markdown",
   "metadata": {
    "colab_type": "text",
    "id": "jl6X3voMECuo"
   },
   "source": [
    "### Compare UCB and Exp3 agents performance and running time in stochastic bandits setting\n",
    "\n",
    "* Train and evaluate UCB and Exp3 algorithms against random product recommendation\n",
    "\n",
    "* Increase the number of products to 100 and explain the change"
   ]
  },
  {
   "cell_type": "code",
   "execution_count": 70,
   "metadata": {
    "colab": {},
    "colab_type": "code",
    "id": "IzWEADgpECuo"
   },
   "outputs": [
    {
     "name": "stdout",
     "output_type": "stream",
     "text": [
      "           Agent     0.500     0.025     0.975       Time\n",
      "0    RandomAgent  0.095866  0.093602  0.098162   8.265573\n",
      "1  AlphaUCBAgent  0.347528  0.343176  0.351897  11.987604\n",
      "2      Exp3Agent  0.347528  0.343176  0.351897  14.982127\n"
     ]
    },
    {
     "data": {
      "image/png": "[encoded data removed]",
      "text/plain": [
       "<Figure size 432x288 with 1 Axes>"
      ]
     },
     "metadata": {
      "needs_background": "light"
     },
     "output_type": "display_data"
    }
   ],
   "source": [
    "# number of products to recommend\n",
    "num_products = 10\n",
    "# number of users for train and evaluation\n",
    "num_train_users, num_eval_users = 1000, 1000\n",
    "\n",
    "custom_args = { 'num_products': num_products,\n",
    "                'random_seed': RND_SEED,\n",
    "              }\n",
    "config = Configuration({ \n",
    "        **env_1_args,\n",
    "        **custom_args,\n",
    "})\n",
    "\n",
    "ucb_agent = AlphaUCBAgent(config)\n",
    "exp3_agent = Exp3Agent(config)\n",
    "rand_agent = RandomAgent(config)\n",
    "\n",
    "agents = [rand_agent, ucb_agent, exp3_agent]\n",
    "\n",
    "stats = train_eval_agents(agents, config, num_train_users, num_eval_users)\n",
    "print(stats)\n",
    "\n",
    "plot_ctr(stats)"
   ]
  },
  {
   "cell_type": "markdown",
   "metadata": {
    "colab_type": "text",
    "id": "ncjvGBV0ECus"
   },
   "source": [
    "### Compare UCB and Exp3 agents in a non-stationary setting"
   ]
  },
  {
   "cell_type": "markdown",
   "metadata": {
    "colab_type": "text",
    "id": "tX0Z8UWTECuu"
   },
   "source": [
    "Now we set the simulation to have some updates in the preference of the users thought they are initialized equally (using the random_seed given in the custom_args). This modelization of the user state change leads to non-stationary user response to a recommendation and is dependant of what you recommended."
   ]
  },
  {
   "cell_type": "code",
   "execution_count": null,
   "metadata": {
    "colab": {},
    "colab_type": "code",
    "id": "J74BAcxEECuu"
   },
   "outputs": [],
   "source": [
    "num_products = 100\n",
    "num_train_users, num_eval_users = 1000, 1000\n",
    "\n",
    "# adversarial setting: increase user state change during time\n",
    "custom_args = { 'num_products': num_products,\n",
    "                'random_seed': RND_SEED,                \n",
    "                'sigma_omega': 0.3\n",
    "              }\n",
    "config = Configuration({ \n",
    "        **env_1_args,\n",
    "        **custom_args,\n",
    "})\n",
    "\n",
    "ucb_agent = AlphaUCBAgent(config)\n",
    "exp3_agent = Exp3Agent(config)\n",
    "rand_agent = RandomAgent(config)\n",
    "\n",
    "agents = [rand_agent, ucb_agent, exp3_agent]\n",
    "\n",
    "stats = train_eval_agents(agents, config, num_train_users, num_eval_users)\n",
    "print(stats)\n",
    "\n",
    "plot_ctr(stats)"
   ]
  },
  {
   "cell_type": "markdown",
   "metadata": {
    "colab_type": "text",
    "id": "IXtlcoN8ECuw"
   },
   "source": [
    "## Compare sample complexity"
   ]
  },
  {
   "cell_type": "markdown",
   "metadata": {
    "colab_type": "text",
    "id": "4YjrNSu8ECux"
   },
   "source": [
    "$\\sigma$-subgaussian distribution\n",
    "* UCB\n",
    "$R_T = \\mathcal{O}(\\sum_{i>1} \\frac{\\log T}{\\Delta_i})$\n",
    "* Exp3\n",
    "$R_T = \\mathcal{O}(\\sum_{i>1}\\frac{\\log^2 (T \\Delta_i^2)}{\\Delta_i})$\n",
    "\n",
    "distribution-independent\n",
    "* UCB\n",
    "$R_T = \\mathcal{O}(\\sqrt{KT\\log T})$\n",
    "* Exp3\n",
    "$R_T = \\mathcal{O}(\\sqrt{KT}\\log K)$"
   ]
  },
  {
   "cell_type": "markdown",
   "metadata": {
    "colab_type": "text",
    "id": "uN_NRj7lECux"
   },
   "source": [
    "## Using side data: browsing events"
   ]
  },
  {
   "cell_type": "markdown",
   "metadata": {
    "colab_type": "text",
    "id": "y6f3TV-UECuy"
   },
   "source": [
    "To make algorithms more sample efficient, we will use side data to bootstrap the recommendation. Specifically, we will use the user browsing events (aka \"organic\" events). The amount of browsing data is typically much larger than the number of click events on recommendation."
   ]
  },
  {
   "cell_type": "markdown",
   "metadata": {
    "colab_type": "text",
    "id": "SFX6n8kSECuy"
   },
   "source": [
    "### Popularity agent"
   ]
  },
  {
   "cell_type": "markdown",
   "metadata": {
    "colab_type": "text",
    "id": "WpnNXw7HECuz"
   },
   "source": [
    "The simpliest recommedation agent is based on the total number of views of the product during browsing."
   ]
  },
  {
   "cell_type": "code",
   "execution_count": 0,
   "metadata": {
    "colab": {},
    "colab_type": "code",
    "id": "cJPVsh7TECu0"
   },
   "outputs": [],
   "source": [
    "class PopularityAgent(Agent):\n",
    "    def __init__(self, config):\n",
    "        super(PopularityAgent, self).__init__(config)\n",
    "\n",
    "        # Track number of times each item is viewed during browsing\n",
    "        self.nb_views = np.ones(self.config.num_products)\n",
    "\n",
    "    def train(self, observation, action, reward, done):\n",
    "        if observation:\n",
    "            for view in observation:\n",
    "                self.nb_views[view] += 1\n",
    "    def act(self, observation):\n",
    "        # compute probability of choosing an action proportionally to the total number of views\n",
    "        prob = self.nb_views/np.sum(self.nb_views)\n",
    "        # choose action\n",
    "        action = np.random.choice(np.arange(self.K), prob)\n",
    "        \n",
    "        return { 'a': action, 'ps': prob[action] }"
   ]
  },
  {
   "cell_type": "markdown",
   "metadata": {
    "colab_type": "text",
    "id": "1kl4lhB8ECu4"
   },
   "source": [
    "### Contextual Bandit\n",
    "\n",
    "Improve the popularity agent by personalizing popularity to the user interest. We represent the user interest by the last product he/she has seen. "
   ]
  },
  {
   "cell_type": "code",
   "execution_count": 0,
   "metadata": {
    "colab": {},
    "colab_type": "code",
    "id": "Ix4EWQrBECu4"
   },
   "outputs": [],
   "source": [
    "from scipy.special import logsumexp\n",
    "\n",
    "class ContextualExp3Agent(Agent):\n",
    "    def __init__(self, config):\n",
    "        super(ContextualExp3Agent, self).__init__(config)\n",
    "\n",
    "        self.product_rewards = np.zeros((self.config.num_products, self.config.num_products))\n",
    "        self.last_product_seen = None\n",
    "        # softmax temperature parameter\n",
    "        self.eta = 0.01\n",
    "                \n",
    "    def update_lps(self, observation):\n",
    "        \"\"\"Update the last product seen based on the current observation\"\"\"\n",
    "        if observation:\n",
    "            self.last_product_seen = observation[-1]\n",
    "            \n",
    "    def train(self, observation, action, reward, done):\n",
    "        if observation:\n",
    "            # TODO: code the update for product_rewards matrix\n",
    "            ..\n",
    "            \n",
    "    def log_softmax(self, vec):\n",
    "        return vec - logsumexp(vec)\n",
    "\n",
    "    def softmax(self, vec):\n",
    "        probs = np.exp(self.log_softmax(vec))\n",
    "        probs /= probs.sum()\n",
    "        return probs\n",
    "    \n",
    "    def act(self, observation):\n",
    "        self.update_lps(observation)\n",
    "        \n",
    "        # TODO: compute probability of choosing an action given last seen product by the user\n",
    "        prob = ..\n",
    "        # TODO: choose action\n",
    "        action = ..\n",
    "\n",
    "        return { 'a': action, 'ps': prob[action] }"
   ]
  },
  {
   "cell_type": "markdown",
   "metadata": {
    "colab_type": "text",
    "id": "1MbwAYtgECu-"
   },
   "source": [
    "### Compare agents that use click events to agents that use view events"
   ]
  },
  {
   "cell_type": "code",
   "execution_count": 0,
   "metadata": {
    "colab": {},
    "colab_type": "code",
    "id": "o5dn2yc6ECu_"
   },
   "outputs": [],
   "source": [
    "num_products = 100\n",
    "num_train_users, num_eval_users = 1000, 1000\n",
    "\n",
    "# increase difference among users\n",
    "custom_args = { 'num_products': num_products,\n",
    "                'random_seed': RND_SEED,\n",
    "                'sigma_omega_initial': 2.0,                \n",
    "              }\n",
    "config = Configuration({ \n",
    "        **env_1_args,\n",
    "        **custom_args,\n",
    "})\n",
    "\n",
    "contextual_exp3_agent = ContextualExp3Agent(config)\n",
    "exp3_agent = Exp3Agent(config)\n",
    "pop_agent = PopularityAgent(config)\n",
    "ucb_agent = AlphaUCBAgent(config)\n",
    "rand_agent = RandomAgent(config)\n",
    "\n",
    "agents = [pop_agent, contextual_exp3_agent, exp3_agent, ucb_agent, rand_agent]\n",
    "\n",
    "stats = train_eval_agents(agents, config, num_train_users, num_eval_users)\n",
    "print(stats)\n",
    "\n",
    "plot_ctr(stats)"
   ]
  },
  {
   "cell_type": "markdown",
   "metadata": {
    "colab_type": "text",
    "id": "FcBkc37rECvC"
   },
   "source": [
    "## Offline evaluation\n",
    "\n",
    "Running counterfactual evaluations on real datasets use more time than a reasonnable practical sessions does. \n",
    "We are going to exhibit the core of the problems theses algorithms faces on a very toy example. \n",
    "\n",
    "Assume we are running a $\\pi_0$ policy random uniform on the possible sets of arms of size 20 with a number of context 10. This means that at each timestep we have 200 possibles combinations to create the recommendation which is very small. Moreover we assume that the obtained reward is a constant equal to 1. This means we have no stochasticity due to realization of the sample and any policy $\\pi$ should have the same estimator of averaged reward.\n",
    "\n",
    "1. We assume the new $\\pi$ is always choosing arm 1, plot the estimation of the IPS  with respect to the number of samples on one run. If you want to be close to the reality (and do more sophisticated experiments), it is better to simulate a dataset $S=\\{context_t, action_t, propensity_t, reward_t\\}$ and then write the IPS estimation rather than rely on mathematical properties of our minimalist system. Also remark than in real system this is a good idea to also store the possible set of actions at each timestep. What do you think of this estimator while you can sample $S$ only one time ? \n",
    "\n",
    "2. Supperpose the self normalized operator on the same plot for each time step. Keep in mind this is actually the best possible case for SNIPS and that for more complex scenarios many others problems can be more important than the variance fixed by snips. \n",
    "\n",
    "3. Now the reward of arm 2 is 1 with probability 1/2 and 1 with probability 1/3 for all other arms. The $\\pi_0$ policy select arm one with probability 0.9 and an arm at random with proba 0.1. Build several estimates of the policy selecting always arm 2. How many samples do you need to identify with confidence that this policy is better than the logging policy ? \n"
   ]
  },
  {
   "cell_type": "code",
   "execution_count": 0,
   "metadata": {
    "colab": {},
    "colab_type": "code",
    "id": "esncAkZZECvD"
   },
   "outputs": [],
   "source": []
  },
  {
   "cell_type": "code",
   "execution_count": 0,
   "metadata": {
    "colab": {},
    "colab_type": "code",
    "id": "f-TPGY42ECvI"
   },
   "outputs": [],
   "source": []
  },
  {
   "cell_type": "markdown",
   "metadata": {
    "colab_type": "text",
    "id": "x8cBKvJLECvN"
   },
   "source": [
    "## Resources"
   ]
  },
  {
   "cell_type": "markdown",
   "metadata": {
    "colab_type": "text",
    "id": "Hc240nNVECvO"
   },
   "source": [
    "* RecoGym https://github.com/criteo-research/reco-gym\n",
    "* Bandit Algorithms, 2018 by Tor Lattimore and Csaba Szepesvári"
   ]
  }
 ],
 "metadata": {
  "colab": {
   "name": "MAB.RecoSystems.ipynb",
   "provenance": [],
   "version": "0.3.2"
  },
  "kernelspec": {
   "display_name": "Python 3",
   "language": "python",
   "name": "python3"
  },
  "language_info": {
   "codemirror_mode": {
    "name": "ipython",
    "version": 3
   },
   "file_extension": ".py",
   "mimetype": "text/x-python",
   "name": "python",
   "nbconvert_exporter": "python",
   "pygments_lexer": "ipython3",
   "version": "3.6.7"
  }
 },
 "nbformat": 4,
 "nbformat_minor": 1
}
