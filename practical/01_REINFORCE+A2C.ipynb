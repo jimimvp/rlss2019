{
 "cells": [
  {
   "cell_type": "markdown",
   "metadata": {
    "colab_type": "text",
    "id": "Xz5VM03vyFeb"
   },
   "source": [
    "# Reinforce & Advantage Actor Critic (A2C)"
   ]
  },
  {
   "cell_type": "markdown",
   "metadata": {
    "colab_type": "text",
    "id": "mjm8RBoQyFed"
   },
   "source": [
    "[You can find the original paper here](https://arxiv.org/pdf/1602.01783.pdf)."
   ]
  },
  {
   "cell_type": "markdown",
   "metadata": {
    "colab_type": "text",
    "id": "CWjie7h0zGdD"
   },
   "source": [
    "## Install, import and utilities"
   ]
  },
  {
   "cell_type": "code",
   "execution_count": 45,
   "metadata": {
    "colab": {},
    "colab_type": "code",
    "id": "VrO05StZyFee"
   },
   "outputs": [
    {
     "name": "stdout",
     "output_type": "stream",
     "text": [
      "Collecting seaborn\n",
      "\u001b[?25l  Downloading https://files.pythonhosted.org/packages/a8/76/220ba4420459d9c4c9c9587c6ce607bf56c25b3d3d2de62056efe482dadc/seaborn-0.9.0-py3-none-any.whl (208kB)\n",
      "\u001b[K    100% |████████████████████████████████| 215kB 5.2MB/s ta 0:00:01\n",
      "\u001b[?25hRequirement already satisfied, skipping upgrade: scipy>=0.14.0 in /Users/Jimmy/miniconda3/envs/ai/lib/python3.6/site-packages (from seaborn) (1.2.1)\n",
      "Requirement already satisfied, skipping upgrade: matplotlib>=1.4.3 in /Users/Jimmy/miniconda3/envs/ai/lib/python3.6/site-packages (from seaborn) (3.0.3)\n",
      "Requirement already satisfied, skipping upgrade: numpy>=1.9.3 in /Users/Jimmy/miniconda3/envs/ai/lib/python3.6/site-packages (from seaborn) (1.16.2)\n",
      "Requirement already satisfied, skipping upgrade: pandas>=0.15.2 in /Users/Jimmy/miniconda3/envs/ai/lib/python3.6/site-packages (from seaborn) (0.24.2)\n",
      "Requirement already satisfied, skipping upgrade: cycler>=0.10 in /Users/Jimmy/miniconda3/envs/ai/lib/python3.6/site-packages (from matplotlib>=1.4.3->seaborn) (0.10.0)\n",
      "Requirement already satisfied, skipping upgrade: kiwisolver>=1.0.1 in /Users/Jimmy/miniconda3/envs/ai/lib/python3.6/site-packages (from matplotlib>=1.4.3->seaborn) (1.0.1)\n",
      "Requirement already satisfied, skipping upgrade: python-dateutil>=2.1 in /Users/Jimmy/miniconda3/envs/ai/lib/python3.6/site-packages (from matplotlib>=1.4.3->seaborn) (2.7.3)\n",
      "Requirement already satisfied, skipping upgrade: pyparsing!=2.0.4,!=2.1.2,!=2.1.6,>=2.0.1 in /Users/Jimmy/miniconda3/envs/ai/lib/python3.6/site-packages (from matplotlib>=1.4.3->seaborn) (2.2.0)\n",
      "Requirement already satisfied, skipping upgrade: pytz>=2011k in /Users/Jimmy/miniconda3/envs/ai/lib/python3.6/site-packages (from pandas>=0.15.2->seaborn) (2018.5)\n",
      "Requirement already satisfied, skipping upgrade: six in /Users/Jimmy/miniconda3/envs/ai/lib/python3.6/site-packages (from cycler>=0.10->matplotlib>=1.4.3->seaborn) (1.11.0)\n",
      "Requirement already satisfied, skipping upgrade: setuptools in /Users/Jimmy/miniconda3/envs/ai/lib/python3.6/site-packages (from kiwisolver>=1.0.1->matplotlib>=1.4.3->seaborn) (39.1.0)\n",
      "\u001b[31mspinup 0.1.2 has requirement seaborn==0.8.1, but you'll have seaborn 0.9.0 which is incompatible.\u001b[0m\n",
      "Installing collected packages: seaborn\n",
      "  Found existing installation: seaborn 0.8.1\n",
      "    Uninstalling seaborn-0.8.1:\n",
      "      Successfully uninstalled seaborn-0.8.1\n",
      "Successfully installed seaborn-0.9.0\n",
      "\u001b[33mYou are using pip version 19.0.3, however version 19.1.1 is available.\n",
      "You should consider upgrading via the 'pip install --upgrade pip' command.\u001b[0m\n"
     ]
    }
   ],
   "source": [
    "!pip install -U seaborn\n",
    "#!sudo apt-get install xvfb"
   ]
  },
  {
   "cell_type": "code",
   "execution_count": 46,
   "metadata": {
    "colab": {},
    "colab_type": "code",
    "id": "Yx0xvpJeyFel"
   },
   "outputs": [],
   "source": [
    "import torch\n",
    "import torch.nn as nn\n",
    "import torch.nn.functional as F \n",
    "from torch import optim\n",
    "import numpy as np\n",
    "import pandas as pd\n",
    "\n",
    "import matplotlib.pyplot as plt\n",
    "import seaborn as sns\n",
    "from pyvirtualdisplay import Display\n",
    "from IPython import display as ipythondisplay\n",
    "from IPython.display import clear_output\n",
    "from pathlib import Path\n",
    "\n",
    "import random, os.path, math, glob, csv, base64, itertools, sys\n",
    "import gym\n",
    "from gym.wrappers import Monitor\n",
    "from pprint import pprint\n",
    "\n",
    "# The following code is will be used to visualize the environments.\n",
    "\n",
    "def show_video(directory):\n",
    "    html = []\n",
    "    for mp4 in Path(directory).glob(\"*.mp4\"):\n",
    "        video_b64 = base64.b64encode(mp4.read_bytes())\n",
    "        html.append('''<video alt=\"{}\" autoplay \n",
    "                      loop controls style=\"height: 400px;\">\n",
    "                      <source src=\"data:video/mp4;base64,{}\" type=\"video/mp4\" />\n",
    "                 </video>'''.format(mp4, video_b64.decode('ascii')))\n",
    "    ipythondisplay.display(ipythondisplay.HTML(data=\"<br>\".join(html)))\n",
    "    \n",
    "#display = Display(visible=0, size=(1400, 900))\n",
    "#display.start();\n",
    "\n",
    "def make_seed(seed):\n",
    "    np.random.seed(seed=seed)\n",
    "    torch.manual_seed(seed=seed)"
   ]
  },
  {
   "cell_type": "markdown",
   "metadata": {
    "colab_type": "text",
    "id": "pMy7W6NkyFeo"
   },
   "source": [
    "The following code is will be used to visualize the environments."
   ]
  },
  {
   "cell_type": "markdown",
   "metadata": {
    "colab_type": "text",
    "id": "sL3r2QLayFeu"
   },
   "source": [
    "## Introduction\n",
    "\n",
    "In this tutorial we will focus on Deep Reinforcement Learning with **Reinforce** and the **Actor-Advantage Critic** algorithm. This tutorial is composed of:\n",
    "* An introduction to the deep learning framework: **PyTorch**, \n",
    "* A quick reminder of the RL setting,\n",
    "* A theoritical and coding approch of Reinforce\n",
    "* A theoritical and coding approch of A2C."
   ]
  },
  {
   "cell_type": "markdown",
   "metadata": {
    "colab_type": "text",
    "id": "XsY-KC1myFeu"
   },
   "source": [
    "## Introduction to PyTorch"
   ]
  },
  {
   "cell_type": "markdown",
   "metadata": {
    "colab_type": "text",
    "id": "Uu2UA5-uyFev"
   },
   "source": [
    "*If you already know PyTorch you can skip this part. From this part on we assume that you have some experience with Python and Numpy. This part is extracted from PyTorch docs.*\n",
    "\n",
    "PyTorch is a Python package that provides two high-level features:\n",
    "- Tensor computation (like NumPy) with strong GPU acceleration\n",
    "- Deep neural networks built on a tape-based autograd system\n",
    "\n",
    "At a granular level, PyTorch is a library that consists of the following components:\n",
    "\n",
    "| Component | Description |\n",
    "| ---- | --- |\n",
    "| [**torch**](https://pytorch.org/docs/stable/torch.html) | a Tensor library like NumPy, with strong GPU support |\n",
    "| [**torch.autograd**](https://pytorch.org/docs/stable/autograd.html) | a tape-based automatic differentiation library that supports all differentiable Tensor operations in torch |\n",
    "| [**torch.jit**](https://pytorch.org/docs/stable/jit.html) | a compilation stack (TorchScript) to create serializable and optimizable models from PyTorch code  |\n",
    "| [**torch.nn**](https://pytorch.org/docs/stable/nn.html) | a neural networks library deeply integrated with autograd designed for maximum flexibility |\n",
    "| [**torch.multiprocessing**](https://pytorch.org/docs/stable/multiprocessing.html) | Python multiprocessing, but with magical memory sharing of torch Tensors across processes. Useful for data loading and Hogwild training |\n",
    "| [**torch.utils**](https://pytorch.org/docs/stable/data.html) | DataLoader and other utility functions for convenience |\n",
    "\n"
   ]
  },
  {
   "cell_type": "markdown",
   "metadata": {
    "colab_type": "text",
    "id": "A5rsYAuvyFew"
   },
   "source": [
    "PyTorch works in a very similar way as Numpy and PyTorch's Tensors are the equivalent of Numpy's Arrays."
   ]
  },
  {
   "cell_type": "markdown",
   "metadata": {
    "colab_type": "text",
    "id": "HKlz3-vLyFex"
   },
   "source": [
    "You can initialize an zero filled tensor just like in numpy."
   ]
  },
  {
   "cell_type": "code",
   "execution_count": null,
   "metadata": {
    "colab": {},
    "colab_type": "code",
    "id": "UY-u1dchyFex"
   },
   "outputs": [],
   "source": [
    "torch.zeros(5,3)"
   ]
  },
  {
   "cell_type": "code",
   "execution_count": null,
   "metadata": {
    "colab": {},
    "colab_type": "code",
    "id": "Nr6M39BHyFe1"
   },
   "outputs": [],
   "source": [
    "torch.eye(3)"
   ]
  },
  {
   "cell_type": "markdown",
   "metadata": {
    "colab_type": "text",
    "id": "i8NsRchhyFe6"
   },
   "source": [
    "You can also convert an array to a tensor."
   ]
  },
  {
   "cell_type": "code",
   "execution_count": null,
   "metadata": {
    "colab": {},
    "colab_type": "code",
    "id": "eYKCvjXqyFe7"
   },
   "outputs": [],
   "source": [
    "torch.tensor(np.eye(3))"
   ]
  },
  {
   "cell_type": "markdown",
   "metadata": {
    "colab_type": "text",
    "id": "WaABqYttyFfA"
   },
   "source": [
    "And you can transform a tensor to an array."
   ]
  },
  {
   "cell_type": "code",
   "execution_count": null,
   "metadata": {
    "colab": {},
    "colab_type": "code",
    "id": "F0XefR9dyFfB"
   },
   "outputs": [],
   "source": [
    "torch.tensor(np.eye(3)).numpy()"
   ]
  },
  {
   "cell_type": "markdown",
   "metadata": {
    "colab_type": "text",
    "id": "ZVG0BE0RyFfH"
   },
   "source": [
    "You can sum, substract, multiply arrays just like in numpy."
   ]
  },
  {
   "cell_type": "code",
   "execution_count": null,
   "metadata": {
    "colab": {},
    "colab_type": "code",
    "id": "VQOUnDhByFfI"
   },
   "outputs": [],
   "source": [
    "a = torch.randint(0,10,(2,3))\n",
    "print(a)"
   ]
  },
  {
   "cell_type": "code",
   "execution_count": 0,
   "metadata": {
    "colab": {},
    "colab_type": "code",
    "id": "Vb6ZbeicyFfN"
   },
   "outputs": [],
   "source": [
    "b = torch.randint(0,10,(2,3))\n",
    "print(b)"
   ]
  },
  {
   "cell_type": "code",
   "execution_count": 0,
   "metadata": {
    "colab": {},
    "colab_type": "code",
    "id": "mQJcMF8ayFfe"
   },
   "outputs": [],
   "source": [
    "print(f'a + b = {a + b}')\n",
    "print(f'a * b = {a * b}')"
   ]
  },
  {
   "cell_type": "markdown",
   "metadata": {
    "colab_type": "text",
    "id": "Eigd9ij0yFfj"
   },
   "source": [
    "You can make matrix products."
   ]
  },
  {
   "cell_type": "code",
   "execution_count": 0,
   "metadata": {
    "colab": {},
    "colab_type": "code",
    "id": "YQwH7cFjyFfk"
   },
   "outputs": [],
   "source": [
    "a @ b.t()"
   ]
  },
  {
   "cell_type": "markdown",
   "metadata": {
    "colab_type": "text",
    "id": "G1c2c2A4yFfs"
   },
   "source": [
    "### AUTOGRAD: automatic differentiation"
   ]
  },
  {
   "cell_type": "markdown",
   "metadata": {
    "colab_type": "text",
    "id": "GndhwBQ0yFft"
   },
   "source": [
    "The autograd package provides automatic differentiation for all operations on Tensors. It is a define-by-run framework, which means that your backprop is defined by how your code is run, and that every single iteration can be different.\n",
    "\n",
    "``torch.Tensor`` is the central class of the package. If you set its attribute\n",
    "``.requires_grad`` as ``True``, it starts to track all operations on it. When\n",
    "you finish your computation you can call ``.backward()`` and have all the\n",
    "gradients computed automatically. The gradient for this tensor will be\n",
    "accumulated into ``.grad`` attribute.\n",
    "\n",
    "To stop a tensor from tracking history, you can call ``.detach()`` to detach\n",
    "it from the computation history, and to prevent future computation from being\n",
    "tracked.\n",
    "\n",
    "To prevent tracking history (and using memory), you can also wrap the code block\n",
    "in ``with torch.no_grad():``. This can be particularly helpful when evaluating a\n",
    "model because the model may have trainable parameters with\n",
    "``requires_grad=True``, but for which we don't need the gradients.\n",
    "\n",
    "There’s one more class which is very important for autograd\n",
    "implementation - a ``Function``.\n",
    "\n",
    "``Tensor`` and ``Function`` are interconnected and build up an acyclic\n",
    "graph, that encodes a complete history of computation. Each tensor has\n",
    "a ``.grad_fn`` attribute that references a ``Function`` that has created\n",
    "the ``Tensor`` (except for Tensors created by the user - their\n",
    "``grad_fn is None``).\n",
    "\n",
    "If you want to compute the derivatives, you can call ``.backward()`` on\n",
    "a ``Tensor``. If ``Tensor`` is a scalar (i.e. it holds a one element\n",
    "data), you don’t need to specify any arguments to ``backward()``,\n",
    "however if it has more elements, you need to specify a ``gradient``\n",
    "argument that is a tensor of matching shape."
   ]
  },
  {
   "cell_type": "markdown",
   "metadata": {
    "colab_type": "text",
    "id": "NkcsoISWyFfu"
   },
   "source": [
    "## Reminder of the RL setting\n",
    "\n",
    "As always we will consider a MDP $M = (\\mathcal{S}, \\mathcal{A}, p, r, \\gamma)$ with:\n",
    "* $\\mathcal{S}$ the state space,\n",
    "* $\\mathcal{A}$ the action space,\n",
    "* $p(x^\\prime \\mid x, a)$ the transition probability,\n",
    "* $r(x, a, x^\\prime)$ the reward of the transition $(x, a, x^\\prime)$,\n",
    "* $\\gamma \\in [0,1)$ is the discount factor.\n",
    "\n",
    "A policy $\\pi$ is a mapping from the state space $\\mathcal{S}$ to the probability of selecting each action.\n",
    "\n",
    "The action value function of a policy is the overall expected reward from a state action. $Q^\\pi(s, a) = \\mathbb{E}_{\\tau \\sim \\pi}\\big[R(\\tau) \\mid s_0=s, a_0=a\\big]$ where $\\tau$ is an episode $(s_0, a_0, r_0, s_1, a_1, r_1, s_2, ..., s_T, a_T, r_T)$ with the actions drawn from $\\pi(s)$; $R(\\tau)$ is the random variable defined as the cumulative sum of the discounted reward.\n",
    "\n",
    "The goal is to maximize the agent's reward.\n",
    "\n",
    "$$ J(\\pi) = \\mathbb{E}_{\\tau \\sim \\pi}\\big[R(\\tau) \\big]$$"
   ]
  },
  {
   "cell_type": "markdown",
   "metadata": {
    "colab_type": "text",
    "id": "5OJnuROCyFfv"
   },
   "source": [
    "## Gym Environment\n",
    "\n",
    "In this lab and also the next one we are going to use the [OpenAI's Gym library](https://gym.openai.com/envs/). This library provides a large number of environments to test RL algorithm.\n",
    "\n",
    "We will focus on the **CartPole-v1** environment in this lab but we encourage you to also test your code on:\n",
    "* **Acrobot-v1**\n",
    "* **MountainCar-v0**"
   ]
  },
  {
   "cell_type": "markdown",
   "metadata": {
    "colab_type": "text",
    "id": "5W7VaPHSyFfw"
   },
   "source": [
    "| Env Info          \t| CartPole-v1 \t| Acrobot-v1                \t| MountainCar-v0 \t|\n",
    "|-------------------\t|-------------\t|---------------------------\t|----------------\t|\n",
    "| **Observation Space** \t| Box(4)      \t| Box(6)                    \t| Box(2)         \t|\n",
    "| **Action Space**      \t| Discrete(2) \t| Discrete(3)               \t| Discrete(3)    \t|\n",
    "| **Rewards**           \t| 1 per step  \t| -1 if not terminal else 0 \t| -1 per step    \t|"
   ]
  },
  {
   "cell_type": "markdown",
   "metadata": {
    "colab_type": "text",
    "id": "Hthuc34vyFfy"
   },
   "source": [
    "A gym environment is loaded with the command `env = gym.make(env_id)`. Once the environment is created, you need to reset it with `observation = env.reset()` and then you can interact with it using the method step: `observation, reward, done, info = env.step(action)`."
   ]
  },
  {
   "cell_type": "markdown",
   "metadata": {
    "colab_type": "text",
    "id": "WTEGZ1nayFfz"
   },
   "source": [
    "### Carpole"
   ]
  },
  {
   "cell_type": "code",
   "execution_count": 4,
   "metadata": {
    "colab": {},
    "colab_type": "code",
    "id": "mnrKdIhsyFf0"
   },
   "outputs": [],
   "source": [
    "# We load CartPole-v1\n",
    "env = gym.make('CartPole-v1')\n",
    "# We wrap it in order to save our experiment on a file.\n",
    "env = Monitor(env, \"./gym-results\", force=True, video_callable=lambda episode: True)"
   ]
  },
  {
   "cell_type": "code",
   "execution_count": 5,
   "metadata": {
    "colab": {},
    "colab_type": "code",
    "id": "1Eq_p3yKyFf3"
   },
   "outputs": [
    {
     "data": {
      "text/html": [
       "<video alt=\"gym-results/openaigym.video.0.33528.video000000.mp4\" autoplay \n",
       "                      loop controls style=\"height: 400px;\">\n",
       "                      <source src=\"data:video/mp4;base64,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\" type=\"video/mp4\" />\n",
       "                 </video>"
      ],
      "text/plain": [
       "<IPython.core.display.HTML object>"
      ]
     },
     "metadata": {},
     "output_type": "display_data"
    }
   ],
   "source": [
    "done = False\n",
    "obs = env.reset()\n",
    "while not done:\n",
    "    action = env.action_space.sample()\n",
    "    obs, reward, done, info = env.step(action)\n",
    "env.close()\n",
    "show_video(\"./gym-results\")"
   ]
  },
  {
   "cell_type": "markdown",
   "metadata": {
    "colab_type": "text",
    "id": "L4wSjOadyFf8"
   },
   "source": [
    "### Acrobot-v1"
   ]
  },
  {
   "cell_type": "code",
   "execution_count": 8,
   "metadata": {
    "colab": {},
    "colab_type": "code",
    "id": "FKGFYo3zyFf9"
   },
   "outputs": [],
   "source": [
    "# We load Acrobot-v1\n",
    "env = gym.make('Acrobot-v1')\n",
    "# We wrap it in order to save our experiment on a file.\n",
    "env = Monitor(env, \"./gym-results\", force=True, video_callable=lambda episode: True)"
   ]
  },
  {
   "cell_type": "code",
   "execution_count": 47,
   "metadata": {
    "colab": {},
    "colab_type": "code",
    "id": "Pue8QgfFyFf_"
   },
   "outputs": [
    {
     "data": {
      "text/html": [],
      "text/plain": [
       "<IPython.core.display.HTML object>"
      ]
     },
     "metadata": {},
     "output_type": "display_data"
    }
   ],
   "source": [
    "done = False\n",
    "obs = env.reset()\n",
    "while not done:\n",
    "    action = env.action_space.sample()\n",
    "    obs, reward, done, info = env.step(action)\n",
    "env.close()\n",
    "show_video(\"./gym-results\")"
   ]
  },
  {
   "cell_type": "markdown",
   "metadata": {
    "colab_type": "text",
    "id": "ZwRK_7ZtyFgC"
   },
   "source": [
    "### MountainCar-v0"
   ]
  },
  {
   "cell_type": "code",
   "execution_count": 0,
   "metadata": {
    "colab": {},
    "colab_type": "code",
    "id": "uZ9qetK-yFgC"
   },
   "outputs": [],
   "source": [
    "# We load Acrobot-v1\n",
    "env = gym.make('MountainCar-v0')\n",
    "# We wrap it in order to save our experiment on a file.\n",
    "env = Monitor(env, \"./gym-results\", force=True, video_callable=lambda episode: True)"
   ]
  },
  {
   "cell_type": "code",
   "execution_count": 0,
   "metadata": {
    "colab": {},
    "colab_type": "code",
    "id": "SbGbUebiyFgE"
   },
   "outputs": [],
   "source": [
    "done = False\n",
    "obs = env.reset()\n",
    "while not done:\n",
    "    action = env.action_space.sample()\n",
    "    obs, reward, done, info = env.step(action)\n",
    "env.close()\n",
    "show_video(\"./gym-results\")"
   ]
  },
  {
   "cell_type": "markdown",
   "metadata": {
    "colab_type": "text",
    "id": "9B6HnSCOyFgH"
   },
   "source": [
    "## REINFORCE"
   ]
  },
  {
   "cell_type": "markdown",
   "metadata": {
    "colab_type": "text",
    "id": "IMTSmNrMyFgH"
   },
   "source": [
    "### Introduction\n",
    "\n",
    "Reinforce is an actor-based **on policy** method. The policy $\\pi_{\\theta}$ is parametrized by a function approximator (e.g. a neural network).\n",
    "\n",
    "Recall: $$ J(\\pi) = \\mathbb{E}_{\\tau \\sim \\pi}\\big[ \\sum_{t} \\gamma^t R_t \\mid x_0, \\pi \\big].$$\n",
    "\n",
    "To update the parameters $\\theta$ of the policy, one has to do gradient ascent: $\\theta_{k+1} = \\theta_{k} + \\alpha \\nabla_{\\theta}J(\\pi_{\\theta})|_{\\theta_{k}}$.\n",
    "\n",
    "**Advantages of this approach:**\n",
    "- Compared to a Q-learning approach, here the policy is directly parametrized so a small change of the parameters will not dramatically change the policy whereas this is not the case for Q-learning approaches.\n",
    "- The stochasticity of the policy allows exploration. In off policy learning, one has to deal with both a behaviour policy and an exploration policy."
   ]
  },
  {
   "cell_type": "markdown",
   "metadata": {
    "colab_type": "text",
    "id": "P2M2e8h-yFgI"
   },
   "source": [
    "### Policy Gradient Theorem\n",
    "\n",
    "**Q.1: Prove the Policy Gradient Theorem:** $$ \\nabla_{\\theta} J(\\pi_{\\theta}) = \\mathbb{E}_{\\tau \\sim \\pi_{\\theta}}\\left[{\\sum_{t=0}^{T} \\nabla_{\\theta} \\log \\pi_{\\theta}(a_t |s_t) R(\\tau)}\\right]$$\n",
    "\n",
    "\n",
    "The policy gradient can be approximated with:\n",
    "$$ \\hat{g} = \\frac{1}{|\\mathcal{D}|} \\sum_{\\tau \\in \\mathcal{D}} \\sum_{t=0}^{T} \\nabla_{\\theta} \\log \\pi_{\\theta}(a_t |s_t) R(\\tau) $$"
   ]
  },
  {
   "cell_type": "markdown",
   "metadata": {
    "colab_type": "text",
    "id": "2YCvTlKo2NeG"
   },
   "source": [
    "#### Hint 1"
   ]
  },
  {
   "cell_type": "markdown",
   "metadata": {
    "colab_type": "text",
    "id": "9Oyts6k72_wC"
   },
   "source": [
    "The probability of a trajectory $\\tau = (s_{0}, a_{0},\\dots, s_{T+1}$) with action chosen from $\\displaystyle \\pi_{\\theta}$ is $P(\\tau|\\theta) = \\rho_{0}(s_{0})\\prod_{t=0}^{T}P\\left(s_{t+1}|s_{t}, a_{t}\\right) \\pi_{\\theta}(a_{t}|s_{t})$"
   ]
  },
  {
   "cell_type": "markdown",
   "metadata": {
    "colab_type": "text",
    "id": "t7qjxPVB3LF9"
   },
   "source": [
    "#### Hint 2"
   ]
  },
  {
   "cell_type": "markdown",
   "metadata": {
    "colab_type": "text",
    "id": "KrGQVsqI3Noh"
   },
   "source": [
    "Gradient-log trick: $  \\nabla_{\\theta}P(\\tau|\\theta)= P(\\tau|\\theta)\\nabla_{\\theta}\\log P(\\tau|\\theta). $\n",
    "\n",
    "The policy gradient can therefore be approximated with:\n",
    "$$ \\hat{g} = \\frac{1}{|\\mathcal{D}|} \\sum_{\\tau \\in \\mathcal{D}} \\sum_{t=0}^{T} \\nabla_{\\theta} \\log \\pi_{\\theta}(a_t |s_t) R(\\tau) $$"
   ]
  },
  {
   "cell_type": "markdown",
   "metadata": {
    "colab_type": "text",
    "id": "aGxnJVUkyFgI"
   },
   "source": [
    "### Implementation of vanilla REINFORCE\n",
    "\n",
    "**Q.2: Implement the REINFORCE algorithm**\n",
    "\n",
    "The code is splitted in two parts:\n",
    "* The Model class defines the architecture of our neural network which takes as input the current state and returns the policy,\n",
    "* The Agent class is responsible for the training and evaluation procedure. You will need to code the method `optimize_model`."
   ]
  },
  {
   "cell_type": "code",
   "execution_count": 10,
   "metadata": {
    "colab": {},
    "colab_type": "code",
    "id": "aNH3udIuyFgK"
   },
   "outputs": [],
   "source": [
    "class Model(nn.Module):\n",
    "    def __init__(self, dim_observation, n_actions):\n",
    "        super(Model, self).__init__()\n",
    "        \n",
    "        self.n_actions = n_actions\n",
    "        self.dim_observation = dim_observation\n",
    "        \n",
    "        self.net = nn.Sequential(\n",
    "            nn.Linear(in_features=self.dim_observation, out_features=16),\n",
    "            nn.ReLU(),\n",
    "            nn.Linear(in_features=16, out_features=8),\n",
    "            nn.ReLU(),\n",
    "            nn.Linear(in_features=8, out_features=self.n_actions),\n",
    "            nn.Softmax(dim=0)\n",
    "        )\n",
    "        \n",
    "    def forward(self, state):\n",
    "        return self.net(state)\n",
    "    \n",
    "    def select_action(self, state):\n",
    "        action = torch.multinomial(self.forward(state), 1)\n",
    "        return action"
   ]
  },
  {
   "cell_type": "markdown",
   "metadata": {
    "colab_type": "text",
    "id": "aKGCDD4KyFgN"
   },
   "source": [
    "It is always nice to visualize the differents layers of our model."
   ]
  },
  {
   "cell_type": "code",
   "execution_count": 11,
   "metadata": {
    "colab": {},
    "colab_type": "code",
    "id": "UzCLFgLEyFgN"
   },
   "outputs": [
    {
     "name": "stdout",
     "output_type": "stream",
     "text": [
      "The model we created correspond to:\n",
      "Model(\n",
      "  (net): Sequential(\n",
      "    (0): Linear(in_features=4, out_features=16, bias=True)\n",
      "    (1): ReLU()\n",
      "    (2): Linear(in_features=16, out_features=8, bias=True)\n",
      "    (3): ReLU()\n",
      "    (4): Linear(in_features=8, out_features=2, bias=True)\n",
      "    (5): Softmax()\n",
      "  )\n",
      ")\n"
     ]
    }
   ],
   "source": [
    "env_id = 'CartPole-v1'\n",
    "env = gym.make(env_id)\n",
    "model = Model(env.observation_space.shape[0], env.action_space.n)\n",
    "print(f'The model we created correspond to:\\n{model}')"
   ]
  },
  {
   "cell_type": "markdown",
   "metadata": {
    "colab_type": "text",
    "id": "PpMv0QFsyFgR"
   },
   "source": [
    "We provide a base agent that you will need to extend in the next cell with your implementation of `optimize_model`."
   ]
  },
  {
   "cell_type": "code",
   "execution_count": 156,
   "metadata": {
    "colab": {},
    "colab_type": "code",
    "id": "sBWGRN6OyFgR"
   },
   "outputs": [],
   "source": [
    "def tt(x):\n",
    "    return torch.from_numpy(x).float()\n",
    "\n",
    "class BaseAgent:\n",
    "    \n",
    "    def __init__(self, config):\n",
    "        self.config = config\n",
    "        self.env = gym.make(config['env_id'])\n",
    "        make_seed(config['seed'])\n",
    "        self.env.seed(config['seed'])\n",
    "        self.model = Model(self.env.observation_space.shape[0], self.env.action_space.n)\n",
    "        self.gamma = config['gamma']\n",
    "        self.optimizer = torch.optim.Adam(self.model.net.parameters(), lr=config['learning_rate'])\n",
    "        self.monitor_env = Monitor(env, \"./gym-results\", force=True, video_callable=lambda episode: True)\n",
    "    \n",
    "    def _make_returns(self, rewards):\n",
    "        \"\"\"Returns the cumulative discounted rewards at each time step\n",
    "\n",
    "        Parameters\n",
    "        ----------\n",
    "        rewards : array\n",
    "            The array of rewards of one episode\n",
    "\n",
    "        Returns\n",
    "        -------\n",
    "        array\n",
    "            The cumulative discounted rewards at each time step\n",
    "            \n",
    "        Example\n",
    "        -------\n",
    "        for rewards=[1, 2, 3] this method outputs [1 + 2 * gamma + 3 * gamma**2, 2 + 3 * gamma, 3] \n",
    "        \"\"\"\n",
    "        \n",
    "        returns = np.zeros_like(rewards)\n",
    "        returns[-1] = rewards[-1]\n",
    "        for t in reversed(range(len(rewards) - 1)):\n",
    "            returns[t] = rewards[t] + self.gamma * returns[t + 1]\n",
    "        return returns\n",
    "    \n",
    "    # Method to implement\n",
    "    def optimize_model(self, n_trajectories):\n",
    "        \"\"\"Perform a gradient update using n_trajectories\n",
    "\n",
    "        Parameters\n",
    "        ----------\n",
    "        n_trajectories : int\n",
    "            The number of trajectories used to approximate the expectation card(D) in the formula above\n",
    "        \n",
    "        Returns\n",
    "        -------\n",
    "        array\n",
    "            The cumulative discounted rewards of each trajectory\n",
    "        \"\"\"\n",
    "    \n",
    "    \n",
    "    def train(self, n_trajectories, n_update):\n",
    "        \"\"\"Training method\n",
    "\n",
    "        Parameters\n",
    "        ----------\n",
    "        n_trajectories : int\n",
    "            The number of trajectories used to approximate the expectation card(D) in the formula above\n",
    "        n_update : int\n",
    "            The number of gradient updates\n",
    "            \n",
    "        \"\"\"\n",
    "        \n",
    "        rewards = []\n",
    "        for episode in range(n_update):\n",
    "            rewards.append(self.optimize_model(n_trajectories))\n",
    "            print(f'Episode {episode + 1}/{n_update}: rewards {round(rewards[-1].mean(), 2)} +/- {round(rewards[-1].std(), 2)}')\n",
    "        \n",
    "        # Plotting\n",
    "        r = pd.DataFrame((itertools.chain(*(itertools.product([i], rewards[i]) for i in range(len(rewards))))), columns=['Epoch', 'Reward'])\n",
    "        sns.pointplot(x=\"Epoch\", y=\"Reward\", data=r, ci='sd');\n",
    "        \n",
    "    def evaluate(self):\n",
    "        \"\"\"Evaluate the agent on a single trajectory            \n",
    "        \"\"\"\n",
    "        \n",
    "        observation = self.monitor_env.reset()\n",
    "        observation = torch.tensor(observation, dtype=torch.float)\n",
    "        reward_episode = 0\n",
    "        done = False\n",
    "            \n",
    "        while not done:\n",
    "            action = self.model.select_action(observation)\n",
    "            observation, reward, done, info = self.monitor_env.step(int(action))\n",
    "            observation = torch.tensor(observation, dtype=torch.float)\n",
    "            reward_episode += reward\n",
    "        \n",
    "        self.monitor_env.close()\n",
    "        show_video(\"./gym-results\")\n",
    "        print(f'Reward: {reward_episode}')\n",
    "        "
   ]
  },
  {
   "cell_type": "code",
   "execution_count": 203,
   "metadata": {
    "colab": {},
    "colab_type": "code",
    "id": "-lS-k_EWyFgT"
   },
   "outputs": [],
   "source": [
    "class SimpleAgent(BaseAgent):\n",
    "    \n",
    "    def optimize_model(self, n_trajectories):\n",
    "        \"\"\"Perform a gradient update using n_trajectories\n",
    "\n",
    "        Parameters\n",
    "        ----------\n",
    "        n_trajectories : int\n",
    "            The number of trajectories used to approximate the expectation card(D) in the formula above\n",
    "        \n",
    "        Returns\n",
    "        -------\n",
    "        array\n",
    "            The cumulative discounted rewards of each trajectory\n",
    "        \"\"\"\n",
    "        objective = 0\n",
    "        all_traj_returns = []\n",
    "        cum_rew_ep = np.zeros(n_trajectories)\n",
    "        traj_likelihoods = []\n",
    "        for i_traj in range(n_trajectories):\n",
    "            # rollout env\n",
    "            d = False\n",
    "            o = self.env.reset()\n",
    "            traj_rewards = []\n",
    "            joint_log_likelihood = 0\n",
    "            likelihoods = []\n",
    "            discount = 1.0\n",
    "            rewards = []\n",
    "            while not d:\n",
    "                a = self.model.select_action(tt(o.reshape(-1))).numpy().flatten()[0]\n",
    "                \n",
    "                # calculate log-likelihood\n",
    "                log_likelihood = torch.log(self.model(tt(o.reshape(-1)))).view(-1)[a]\n",
    "                joint_log_likelihood += log_likelihood\n",
    "                likelihoods.append(log_likelihood[None])\n",
    "                \n",
    "                o, r, d, inf = self.env.step(a)\n",
    "                cum_rew_ep[i_traj]+=r*discount\n",
    "                #rewards.append(r*discount)\n",
    "                \n",
    "                discount *= self.gamma\n",
    "                \n",
    "            #returns = self._make_returns(rewards)\n",
    "            \n",
    "            \n",
    "            # add to objective\n",
    "            traj_likelihoods.append((torch.cat(likelihoods).sum()*cum_rew_ep[i_traj])[None])\n",
    "            \n",
    "        \n",
    "        # normalize by number of trajectories\n",
    "        objective = - torch.cat(traj_likelihoods).mean()\n",
    "        \n",
    "        # backward pass\n",
    "        self.optimizer.zero_grad()\n",
    "        objective.backward()\n",
    "        self.optimizer.step()\n",
    "            \n",
    "        return cum_rew_ep\n",
    "    \n"
   ]
  },
  {
   "cell_type": "markdown",
   "metadata": {
    "colab_type": "text",
    "id": "YTrttCY086ts"
   },
   "source": [
    "In the cell bellow are listed the parameters you should play with. Try out different configurations."
   ]
  },
  {
   "cell_type": "code",
   "execution_count": 204,
   "metadata": {
    "colab": {},
    "colab_type": "code",
    "id": "KMLAy5fY-1V4",
    "outputId": "35cca99c-903d-4fcd-889f-0e41d4fc0dc1"
   },
   "outputs": [
    {
     "name": "stdout",
     "output_type": "stream",
     "text": [
      "Current config is:\n",
      "{'env_id': 'CartPole-v1', 'gamma': 1.0, 'learning_rate': 0.01, 'seed': 1235}\n"
     ]
    }
   ],
   "source": [
    "#@title Config {display-mode: \"form\", run: \"auto\"}\n",
    "\n",
    "env_id = 'CartPole-v1'  #@param [\"CartPole-v1\", \"Acrobot-v1\", \"MountainCar-v0\"]\n",
    "learning_rate = 0.01  #@param {type: \"number\"}\n",
    "gamma = 1.0  #@param {type: \"number\"}\n",
    "seed = 1235  #@param {type: \"integer\"}\n",
    "#@markdown ---\n",
    "\n",
    "config = {\n",
    "    'env_id': env_id,\n",
    "    'learning_rate': learning_rate,\n",
    "    'seed': seed,\n",
    "    'gamma': gamma\n",
    "}\n",
    "\n",
    "print(\"Current config is:\")\n",
    "pprint(config)\n"
   ]
  },
  {
   "cell_type": "markdown",
   "metadata": {
    "colab_type": "text",
    "id": "TodvhIbt86tx"
   },
   "source": [
    "Let's train the agent."
   ]
  },
  {
   "cell_type": "code",
   "execution_count": 205,
   "metadata": {
    "colab": {},
    "colab_type": "code",
    "id": "MHmntrq4yFgW",
    "scrolled": true
   },
   "outputs": [
    {
     "name": "stdout",
     "output_type": "stream",
     "text": [
      "tensor(439.0746, grad_fn=<NegBackward>)\n",
      "Episode 1/50: rewards 21.04 +/- 13.83\n",
      "tensor(521.7554, grad_fn=<NegBackward>)\n",
      "Episode 2/50: rewards 24.0 +/- 13.31\n",
      "tensor(457.1333, grad_fn=<NegBackward>)\n",
      "Episode 3/50: rewards 22.51 +/- 12.45\n",
      "tensor(565.1238, grad_fn=<NegBackward>)\n",
      "Episode 4/50: rewards 25.17 +/- 13.65\n",
      "tensor(673.2469, grad_fn=<NegBackward>)\n",
      "Episode 5/50: rewards 26.31 +/- 16.88\n",
      "tensor(454.2814, grad_fn=<NegBackward>)\n",
      "Episode 6/50: rewards 23.38 +/- 10.72\n",
      "tensor(642.1677, grad_fn=<NegBackward>)\n",
      "Episode 7/50: rewards 27.25 +/- 13.93\n",
      "tensor(492.6582, grad_fn=<NegBackward>)\n",
      "Episode 8/50: rewards 24.02 +/- 12.0\n",
      "tensor(554.9736, grad_fn=<NegBackward>)\n",
      "Episode 9/50: rewards 25.18 +/- 13.42\n",
      "tensor(737.1464, grad_fn=<NegBackward>)\n",
      "Episode 10/50: rewards 29.45 +/- 14.67\n",
      "tensor(817.1727, grad_fn=<NegBackward>)\n",
      "Episode 11/50: rewards 30.28 +/- 17.0\n",
      "tensor(826.9303, grad_fn=<NegBackward>)\n",
      "Episode 12/50: rewards 30.29 +/- 17.46\n"
     ]
    },
    {
     "ename": "KeyboardInterrupt",
     "evalue": "",
     "output_type": "error",
     "traceback": [
      "\u001b[0;31m---------------------------------------------------------------------------\u001b[0m",
      "\u001b[0;31mKeyboardInterrupt\u001b[0m                         Traceback (most recent call last)",
      "\u001b[0;32m<ipython-input-205-70d627e0ec60>\u001b[0m in \u001b[0;36m<module>\u001b[0;34m\u001b[0m\n\u001b[1;32m      1\u001b[0m \u001b[0magent\u001b[0m \u001b[0;34m=\u001b[0m \u001b[0mSimpleAgent\u001b[0m\u001b[0;34m(\u001b[0m\u001b[0mconfig\u001b[0m\u001b[0;34m)\u001b[0m\u001b[0;34m\u001b[0m\u001b[0;34m\u001b[0m\u001b[0m\n\u001b[0;32m----> 2\u001b[0;31m \u001b[0magent\u001b[0m\u001b[0;34m.\u001b[0m\u001b[0mtrain\u001b[0m\u001b[0;34m(\u001b[0m\u001b[0mn_trajectories\u001b[0m\u001b[0;34m=\u001b[0m\u001b[0;36m100\u001b[0m\u001b[0;34m,\u001b[0m \u001b[0mn_update\u001b[0m\u001b[0;34m=\u001b[0m\u001b[0;36m50\u001b[0m\u001b[0;34m)\u001b[0m\u001b[0;34m\u001b[0m\u001b[0;34m\u001b[0m\u001b[0m\n\u001b[0m",
      "\u001b[0;32m<ipython-input-156-b1f3c5e4282e>\u001b[0m in \u001b[0;36mtrain\u001b[0;34m(self, n_trajectories, n_update)\u001b[0m\n\u001b[1;32m     68\u001b[0m         \u001b[0mrewards\u001b[0m \u001b[0;34m=\u001b[0m \u001b[0;34m[\u001b[0m\u001b[0;34m]\u001b[0m\u001b[0;34m\u001b[0m\u001b[0;34m\u001b[0m\u001b[0m\n\u001b[1;32m     69\u001b[0m         \u001b[0;32mfor\u001b[0m \u001b[0mepisode\u001b[0m \u001b[0;32min\u001b[0m \u001b[0mrange\u001b[0m\u001b[0;34m(\u001b[0m\u001b[0mn_update\u001b[0m\u001b[0;34m)\u001b[0m\u001b[0;34m:\u001b[0m\u001b[0;34m\u001b[0m\u001b[0;34m\u001b[0m\u001b[0m\n\u001b[0;32m---> 70\u001b[0;31m             \u001b[0mrewards\u001b[0m\u001b[0;34m.\u001b[0m\u001b[0mappend\u001b[0m\u001b[0;34m(\u001b[0m\u001b[0mself\u001b[0m\u001b[0;34m.\u001b[0m\u001b[0moptimize_model\u001b[0m\u001b[0;34m(\u001b[0m\u001b[0mn_trajectories\u001b[0m\u001b[0;34m)\u001b[0m\u001b[0;34m)\u001b[0m\u001b[0;34m\u001b[0m\u001b[0;34m\u001b[0m\u001b[0m\n\u001b[0m\u001b[1;32m     71\u001b[0m             \u001b[0mprint\u001b[0m\u001b[0;34m(\u001b[0m\u001b[0;34mf'Episode {episode + 1}/{n_update}: rewards {round(rewards[-1].mean(), 2)} +/- {round(rewards[-1].std(), 2)}'\u001b[0m\u001b[0;34m)\u001b[0m\u001b[0;34m\u001b[0m\u001b[0;34m\u001b[0m\u001b[0m\n\u001b[1;32m     72\u001b[0m \u001b[0;34m\u001b[0m\u001b[0m\n",
      "\u001b[0;32m<ipython-input-203-7491806c5ce1>\u001b[0m in \u001b[0;36moptimize_model\u001b[0;34m(self, n_trajectories)\u001b[0m\n\u001b[1;32m     31\u001b[0m \u001b[0;34m\u001b[0m\u001b[0m\n\u001b[1;32m     32\u001b[0m                 \u001b[0;31m# calculate log-likelihood\u001b[0m\u001b[0;34m\u001b[0m\u001b[0;34m\u001b[0m\u001b[0;34m\u001b[0m\u001b[0m\n\u001b[0;32m---> 33\u001b[0;31m                 \u001b[0mlog_likelihood\u001b[0m \u001b[0;34m=\u001b[0m \u001b[0mtorch\u001b[0m\u001b[0;34m.\u001b[0m\u001b[0mlog\u001b[0m\u001b[0;34m(\u001b[0m\u001b[0mself\u001b[0m\u001b[0;34m.\u001b[0m\u001b[0mmodel\u001b[0m\u001b[0;34m(\u001b[0m\u001b[0mtt\u001b[0m\u001b[0;34m(\u001b[0m\u001b[0mo\u001b[0m\u001b[0;34m.\u001b[0m\u001b[0mreshape\u001b[0m\u001b[0;34m(\u001b[0m\u001b[0;34m-\u001b[0m\u001b[0;36m1\u001b[0m\u001b[0;34m)\u001b[0m\u001b[0;34m)\u001b[0m\u001b[0;34m)\u001b[0m\u001b[0;34m)\u001b[0m\u001b[0;34m.\u001b[0m\u001b[0mview\u001b[0m\u001b[0;34m(\u001b[0m\u001b[0;34m-\u001b[0m\u001b[0;36m1\u001b[0m\u001b[0;34m)\u001b[0m\u001b[0;34m[\u001b[0m\u001b[0ma\u001b[0m\u001b[0;34m]\u001b[0m\u001b[0;34m\u001b[0m\u001b[0;34m\u001b[0m\u001b[0m\n\u001b[0m\u001b[1;32m     34\u001b[0m                 \u001b[0mjoint_log_likelihood\u001b[0m \u001b[0;34m+=\u001b[0m \u001b[0mlog_likelihood\u001b[0m\u001b[0;34m\u001b[0m\u001b[0;34m\u001b[0m\u001b[0m\n\u001b[1;32m     35\u001b[0m                 \u001b[0mlikelihoods\u001b[0m\u001b[0;34m.\u001b[0m\u001b[0mappend\u001b[0m\u001b[0;34m(\u001b[0m\u001b[0mlog_likelihood\u001b[0m\u001b[0;34m[\u001b[0m\u001b[0;32mNone\u001b[0m\u001b[0;34m]\u001b[0m\u001b[0;34m)\u001b[0m\u001b[0;34m\u001b[0m\u001b[0;34m\u001b[0m\u001b[0m\n",
      "\u001b[0;31mKeyboardInterrupt\u001b[0m: "
     ]
    }
   ],
   "source": [
    "agent = SimpleAgent(config)\n",
    "agent.train(n_trajectories=100, n_update=50)"
   ]
  },
  {
   "cell_type": "markdown",
   "metadata": {
    "colab_type": "text",
    "id": "Lu3QdaqhyFgZ"
   },
   "source": [
    "Let's evaluate the quality of the learned policy."
   ]
  },
  {
   "cell_type": "code",
   "execution_count": null,
   "metadata": {
    "colab": {},
    "colab_type": "code",
    "id": "G3phyHpgyFga"
   },
   "outputs": [],
   "source": [
    "agent.evaluate()"
   ]
  },
  {
   "cell_type": "markdown",
   "metadata": {
    "colab_type": "text",
    "id": "rkKkc2OxyFgf"
   },
   "source": [
    "**Q.3: What are the strengths and drawbacks of this algorithm? How would you improve it?**"
   ]
  },
  {
   "cell_type": "markdown",
   "metadata": {
    "colab_type": "text",
    "id": "IvfQ8GSPyFgg"
   },
   "source": [
    "*Type your answer here*"
   ]
  },
  {
   "cell_type": "markdown",
   "metadata": {
    "colab_type": "text",
    "id": "0yuhnU_K86t4"
   },
   "source": [
    "### Don't let the past distract you"
   ]
  },
  {
   "cell_type": "markdown",
   "metadata": {
    "colab_type": "text",
    "id": "rkYWtsuuyFgj"
   },
   "source": [
    "- The sum of rewards during one episode has a high variance which affects the performance of this version of **REINFORCE**.\n",
    "- To assess the quality of an action, it make more sense to take into consideration only the rewards obtained after taking this action.\n",
    "- It can be proven that $$  \\nabla_{\\theta} J(\\pi_{\\theta}) = \\mathbb{E}_{\\tau \\sim \\pi_{\\theta}}\\left[{\\sum_{t=0}^{T} \\nabla_{\\theta} \\log \\pi_{\\theta}(a_t |s_t) \\sum_{t'=t}^T \\gamma^{t'-t} R(s_{t'}, a_{t'}, s_{t'+1})}\\right].$$\n",
    "- **Bonus**: proof of this claim.\n",
    "- This has for effect to reduce the variance. Past rewards have zero mean but nonzero variance so they just add noise.  \n",
    "\n",
    "**Q4: Implement this enhanced version of REINFORCE**"
   ]
  },
  {
   "cell_type": "code",
   "execution_count": 0,
   "metadata": {
    "colab": {},
    "colab_type": "code",
    "id": "LuwbPfLfyFgj"
   },
   "outputs": [],
   "source": [
    "class EnhancedAgent(BaseAgent):\n",
    "    \n",
    "    def optimize_model(self, n_trajectories):\n",
    "        \"\"\"Perform a gradient update using n_trajectories\n",
    "\n",
    "        Parameters\n",
    "        ----------\n",
    "        n_trajectories : int\n",
    "            The number of trajectories used to approximate the expectation card(D) in the formula above\n",
    "        \n",
    "        Returns\n",
    "        -------\n",
    "        array\n",
    "            The cumulative discounted rewards of each trajectory\n",
    "        \"\"\"\n",
    "        \n",
    "        ###\n",
    "        # Your code here\n",
    "        ###\n",
    "        \n",
    "        reward_trajectories = None\n",
    "        loss = None\n",
    "        \n",
    "        self.optimizer.zero_grad()\n",
    "        # Compute the gradient \n",
    "        loss.backward()\n",
    "        # Do the gradient descent step\n",
    "        self.optimizer.step()\n",
    "        return reward_trajectories\n",
    "   "
   ]
  },
  {
   "cell_type": "code",
   "execution_count": 0,
   "metadata": {
    "colab": {},
    "colab_type": "code",
    "id": "bQ-fznp1A9w7"
   },
   "outputs": [],
   "source": [
    "#@title Config Enhanced {display-mode: \"form\", run: \"auto\"}\n",
    "\n",
    "env_id = 'CartPole-v1'  #@param [\"CartPole-v1\", \"Acrobot-v1\", \"MountainCar-v0\"]\n",
    "learning_rate = 0.001  #@param {type: \"number\"}\n",
    "gamma = 1  #@param {type: \"number\"}\n",
    "seed = 1  #@param {type: \"integer\"}\n",
    "#@markdown ---\n",
    "\n",
    "config_enhanced = {\n",
    "    'env_id': env_id,\n",
    "    'learning_rate': learning_rate,\n",
    "    'seed': seed,\n",
    "    'gamma': gamma\n",
    "}\n",
    "\n",
    "print(\"Current config_enhanced is:\")\n",
    "pprint(config_enhanced)"
   ]
  },
  {
   "cell_type": "code",
   "execution_count": 0,
   "metadata": {
    "colab": {},
    "colab_type": "code",
    "id": "HVGu8w84yFgn",
    "scrolled": true
   },
   "outputs": [],
   "source": [
    "agent = EnhancedAgent(config_enhanced)\n",
    "agent.train(n_trajectories=50, n_update=50)"
   ]
  },
  {
   "cell_type": "code",
   "execution_count": 0,
   "metadata": {
    "colab": {},
    "colab_type": "code",
    "id": "XSIb6UuMyFgr"
   },
   "outputs": [],
   "source": [
    "agent.evaluate()"
   ]
  },
  {
   "cell_type": "markdown",
   "metadata": {
    "colab_type": "text",
    "id": "n653mbx-yFgx"
   },
   "source": [
    "**Q.5: Did this method improve over vanilla REINFORCE?**"
   ]
  },
  {
   "cell_type": "markdown",
   "metadata": {
    "colab_type": "text",
    "id": "3HuYUaXwyFgx"
   },
   "source": [
    "*Type your answer here*"
   ]
  },
  {
   "cell_type": "markdown",
   "metadata": {
    "colab_type": "text",
    "id": "I9kdsiBQ31mF"
   },
   "source": [
    "## A2C"
   ]
  },
  {
   "cell_type": "markdown",
   "metadata": {
    "colab_type": "text",
    "id": "e-dB7kWq4AOu"
   },
   "source": [
    "### Theory\n",
    "The cumulative discounted reward has a high variance and therefore **REINFORCE** needs lots of trajectories to converge.\n",
    "In order to reduce it we can substract a baseline $b(s_t)$.\n",
    "\n",
    "This is possible because:\n",
    "\n",
    "$$\\mathbb{E}_{a_t \\sim \\pi_{\\theta}}{\\nabla_{\\theta} \\log \\pi_{\\theta}(a_t|s_t) b(s_t)} = 0.$$\n",
    "\n",
    "**Proof**\n",
    "\n",
    "Let $P_\\theta$ be the parameterized probability distribution over a random variable x.\n",
    "$$\\int_x P_\\theta (x) = 1$$\n",
    "Taking the gradient we get: $\\nabla_\\theta \\int_x P_\\theta (x) = \\nabla_\\theta 1 = 0$\n",
    "\\begin{align*}\n",
    "0 &= \\nabla_\\theta \\int_x P_\\theta (x)\\\\\n",
    "&= \\int_x \\nabla_\\theta P_\\theta(x)\\\\\n",
    "&= \\int_x P_\\theta (x) \\nabla_\\theta \\log P_\\theta (x) \\\\\n",
    "&= \\mathbb{E}_{x \\sim P_\\theta} \\nabla_\\theta \\log P_\\theta (x)\n",
    "\\end{align*}\n",
    "\n",
    "Which leads to the following formula:\n",
    "\n",
    "$$ \\nabla_{\\theta} J(\\pi_{\\theta}) = \\mathbb{E}_{\\tau \\sim \\pi_{\\theta}}{\\sum_{t=0}^{T} \\nabla_{\\theta} \\log \\pi_{\\theta}(a_t |s_t) \\left(\\sum_{t'=t}^T \\gamma^{t' - t} R(s_{t'}, a_{t'}, s_{t'+1}) - b(s_t)\\right)}$$\n",
    "\n",
    "The most common choice of baseline is the on-policy value function $V^{\\pi}(s_t)$. This choice has the desirable effect of reducing variance in the sample estimate for the policy gradient. This results in faster and more stable policy learning. It is also appealing from a conceptual angle: it encodes the intuition that if an agent gets what it expected, it should “feel” neutral about it.\n",
    "\n",
    "However $V^\\pi$ is unknown and therefore we need to learn it. We will use a neural network to approximate $V^\\pi$ with Mean Square Error as the loss function.\n",
    "\n",
    "$$ \\arg \\min_{\\phi} \\mathbb{E}_{s_t, \\hat{R}_t \\sim \\pi_k}{\\left( V_{\\phi}(s_t) - \\hat{R}_t \\right)^2}, $$\n",
    "\n",
    "\n",
    "We can show that we can replace $\\sum_{t'=t}^T \\gamma^{t' - t} R(s_{t'}, a_{t'}, s_{t'+1})$ in the formula above by $Q^{\\pi_\\theta}(s_t, a_t)$ and by doing so we finally get $$ \\nabla_{\\theta} J(\\pi_{\\theta}) = \\mathbb{E}_{\\tau \\sim \\pi_{\\theta}}{\\sum_{t=0}^{T} \\nabla_{\\theta} \\log \\pi_{\\theta}(a_t |s_t) \\left(Q^{\\pi_\\theta}(s_t, a_t) - V^{\\pi_\\theta}(s_t)\\right)}$$\n",
    "\n",
    "**Bonus: Prove the statement above**\n",
    "\n",
    "$A(s_t, a_t) = Q(s_{t}, a_{t}) - V^\\pi(s_t)$ is called the Advantage function which gives the name **Advantage Actor Critic**.\n",
    "\n",
    "$Q^{\\pi_\\theta}(s_t, a_t)$ is approximated as the cumulative sum of rewards.\n",
    "\n",
    "Minh et al. in their paper explained that they added an entropy term to the loss in order to encourage exploration.\n",
    "\n",
    "$$ - \\sum_{a} \\pi(a | s) \\log \\pi(a | s) $$\n",
    "\n",
    "**Q.6: Explain why adding the entropy term encourage exploration.**"
   ]
  },
  {
   "cell_type": "markdown",
   "metadata": {
    "colab_type": "text",
    "id": "xDifFS9I4X7A"
   },
   "source": [
    "### Coding\n",
    "\n",
    "In the first part of this lab we had to wait for the end of an episode in order to compute the cumulative discounted rewards. Here we can use the critic to estimate the cumulative discounted reward and therefore we no longer need to wait for the episode termination.\n",
    "\n",
    "**Example**: For a trajectory $\\tau = (s_0, a_0, r_0, s_1, a_1, r_1, ..., s_t, a_t, r_t, ..., s_T, a_T, r_T)$ the cumulative discounted rewards $R(\\tau) = \\sum_{i=0}^T \\gamma^i r_i$ can be approximated by $ \\sum_{i=0}^t \\gamma^i r_i + \\gamma^{t+1} V_\\phi(s_{t+1})$ where $V_\\phi$ is our critic.\n",
    "\n",
    "This is allows us to train our model using batch data, which is more efficient for:\n",
    "* Computing: deep learning libraries (PyTorch, TensorFlow, ...) are optimized for batched data;\n",
    "* We don't have to wait for the end of a long episode in order to perform the update;\n",
    "* It is more sample efficient;\n",
    "* ...\n",
    "\n",
    "\n",
    "**Q.7: Implement `optimize_model` using batches**"
   ]
  },
  {
   "cell_type": "code",
   "execution_count": 206,
   "metadata": {
    "colab": {},
    "colab_type": "code",
    "id": "5DlNKriHyFg3"
   },
   "outputs": [],
   "source": [
    "class ActorNetwork(nn.Module):\n",
    "\n",
    "    def __init__(self, input_size, hidden_size, action_size):\n",
    "        super(ActorNetwork, self).__init__()\n",
    "        self.fc1 = nn.Linear(input_size, hidden_size)\n",
    "        self.fc2 = nn.Linear(hidden_size, hidden_size)\n",
    "        self.fc3 = nn.Linear(hidden_size, action_size)\n",
    "\n",
    "    def forward(self, x):\n",
    "        out = F.relu(self.fc1(x))\n",
    "        out = F.relu(self.fc2(out))\n",
    "        out = F.softmax(self.fc3(out), dim=-1)\n",
    "        return out\n",
    "    \n",
    "    def select_action(self, x):\n",
    "        return torch.multinomial(self(x), 1).detach().numpy()"
   ]
  },
  {
   "cell_type": "code",
   "execution_count": 207,
   "metadata": {
    "colab": {},
    "colab_type": "code",
    "id": "SgnRZXEayFhA"
   },
   "outputs": [],
   "source": [
    "class ValueNetwork(nn.Module):\n",
    "\n",
    "    def __init__(self, input_size, hidden_size, output_size):\n",
    "        super(ValueNetwork, self).__init__()\n",
    "        self.fc1 = nn.Linear(input_size, hidden_size)\n",
    "        self.fc2 = nn.Linear(hidden_size, hidden_size)\n",
    "        self.fc3 = nn.Linear(hidden_size, output_size)\n",
    "\n",
    "    def forward(self, x):\n",
    "        out = F.relu(self.fc1(x))\n",
    "        out = F.relu(self.fc2(out))\n",
    "        out = self.fc3(out)\n",
    "        return out"
   ]
  },
  {
   "cell_type": "code",
   "execution_count": 208,
   "metadata": {
    "colab": {},
    "colab_type": "code",
    "id": "_5pS7cRyyFhC"
   },
   "outputs": [],
   "source": [
    "class A2CAgent:\n",
    "\n",
    "    def __init__(self, config):\n",
    "        self.config = config\n",
    "        self.env = gym.make(config['env_id'])\n",
    "        make_seed(config['seed'])\n",
    "        self.env.seed(config['seed'])\n",
    "        self.monitor_env = Monitor(self.env, \"./gym-results\", force=True, video_callable=lambda episode: True)\n",
    "        self.gamma = config['gamma']\n",
    "        \n",
    "        # Our two networks\n",
    "        self.value_network = ValueNetwork(self.env.observation_space.shape[0], 16, 1)\n",
    "        self.actor_network = ActorNetwork(self.env.observation_space.shape[0], 16, self.env.action_space.n)\n",
    "        \n",
    "        # Their optimizers\n",
    "        self.value_network_optimizer = optim.RMSprop(self.value_network.parameters(), lr=config['value_network']['learning_rate'])\n",
    "        self.actor_network_optimizer = optim.RMSprop(self.actor_network.parameters(), lr=config['actor_network']['learning_rate'])\n",
    "        \n",
    "    # Hint: use it during training_batch\n",
    "    def _returns_advantages(self, rewards, dones, values, next_value):\n",
    "        \"\"\"Returns the cumulative discounted rewards at each time step\n",
    "\n",
    "        Parameters\n",
    "        ----------\n",
    "        rewards : array\n",
    "            An array of shape (batch_size,) containing the rewards given by the env\n",
    "        dones : array\n",
    "            An array of shape (batch_size,) containing the done bool indicator given by the env\n",
    "        values : array\n",
    "            An array of shape (batch_size,) containing the values given by the value network\n",
    "        next_value : float\n",
    "            The value of the next state given by the value network\n",
    "        \n",
    "        Returns\n",
    "        -------\n",
    "        returns : array\n",
    "            The cumulative discounted rewards\n",
    "        advantages : array\n",
    "            The advantages\n",
    "        \"\"\"\n",
    "        \n",
    "        returns = np.append(np.zeros_like(rewards), [next_value], axis=0)\n",
    "        \n",
    "        for t in reversed(range(rewards.shape[0])):\n",
    "            returns[t] = rewards[t] + self.gamma * returns[t + 1] * (1 - dones[t])\n",
    "            \n",
    "        returns = returns[:-1]\n",
    "        advantages = returns - values\n",
    "        return returns, advantages\n",
    "\n",
    "    def training_batch(self, epochs, batch_size):\n",
    "        \"\"\"Perform a training by batch\n",
    "\n",
    "        Parameters\n",
    "        ----------\n",
    "        epochs : int\n",
    "            Number of epochs\n",
    "        batch_size : int\n",
    "            The size of a batch\n",
    "        \"\"\"\n",
    "        episode_count = 0\n",
    "        actions = np.empty((batch_size,), dtype=np.int)\n",
    "        dones = np.empty((batch_size,), dtype=np.bool)\n",
    "        rewards, values = np.empty((2, batch_size), dtype=np.float)\n",
    "        observations = np.empty((batch_size,) + self.env.observation_space.shape, dtype=np.float)\n",
    "        observation = self.env.reset()\n",
    "        rewards_test = []\n",
    "\n",
    "        for epoch in range(epochs):\n",
    "            # Lets collect one batch\n",
    "            for i in range(batch_size):\n",
    "                observations[i] = observation\n",
    "                values[i] = self.value_network(torch.tensor(observation, dtype=torch.float)).detach().numpy()\n",
    "                policy = self.actor_network(torch.tensor(observation, dtype=torch.float))\n",
    "                actions[i] = torch.multinomial(policy, 1).detach().numpy()\n",
    "                observation, rewards[i], dones[i], _ = self.env.step(actions[i])\n",
    "\n",
    "                if dones[i]:\n",
    "                    observation = self.env.reset()\n",
    "\n",
    "            # If our epiosde didn't end on the last step we need to compute the value for the last state\n",
    "            if dones[-1]:\n",
    "                next_value = 0\n",
    "            else:\n",
    "                next_value = self.value_network(torch.tensor(observation, dtype=torch.float)).detach().numpy()[0]\n",
    "            \n",
    "            # Update episode_count\n",
    "            episode_count += sum(dones)\n",
    "\n",
    "            # Compute returns and advantages\n",
    "            returns, advantages = self._returns_advantages(rewards, dones, values, next_value)\n",
    "\n",
    "            # Learning step !\n",
    "            self.optimize_model(observations, actions, returns, advantages)\n",
    "\n",
    "            # Test it every 50 epochs\n",
    "            if epoch % 50 == 0 or epoch == epochs - 1:\n",
    "                rewards_test.append(np.array([self.evaluate() for _ in range(50)]))\n",
    "                print(f'Epoch {epoch}/{epochs}: Mean rewards: {round(rewards_test[-1].mean(), 2)}, Std: {round(rewards_test[-1].std(), 2)}')\n",
    "\n",
    "                # Early stopping\n",
    "                if rewards_test[-1].mean() > 490 and epoch != epochs -1:\n",
    "                    print('Early stopping !')\n",
    "                    break\n",
    "                observation = self.env.reset()\n",
    "                    \n",
    "        # Plotting\n",
    "        r = pd.DataFrame((itertools.chain(*(itertools.product([i], rewards_test[i]) for i in range(len(rewards_test))))), columns=['Epoch', 'Reward'])\n",
    "        sns.lineplot(x=\"Epoch\", y=\"Reward\", data=r, ci='sd');\n",
    "        \n",
    "        print(f'The trainnig was done over a total of {episode_count} episodes')\n",
    "\n",
    "    def optimize_model(self, observations, actions, returns, advantages):\n",
    "        actions = F.one_hot(torch.tensor(actions), self.env.action_space.n)\n",
    "        returns = torch.tensor(returns[:, None], dtype=torch.float)\n",
    "        advantages = torch.tensor(advantages, dtype=torch.float)\n",
    "        observations = torch.tensor(observations, dtype=torch.float)\n",
    "\n",
    "        # MSE for the values\n",
    "        V = self.value_network(observations)\n",
    "        mse = torch.mean((returns - V)**2)\n",
    "        \n",
    "        # Actor & Entropy loss\n",
    "        actor_loss = -torch.log(torch.log(self.actor_network(observations)))[actions]*advantages +\n",
    "        \n",
    "        raise NotImplementedError\n",
    "\n",
    "    def evaluate(self, render=False):\n",
    "        env = self.monitor_env if render else self.env\n",
    "        observation = env.reset()\n",
    "        observation = torch.tensor(observation, dtype=torch.float)\n",
    "        reward_episode = 0\n",
    "        done = False\n",
    "\n",
    "        while not done:\n",
    "            policy = self.actor_network(observation)\n",
    "            action = torch.multinomial(policy, 1)\n",
    "            observation, reward, done, info = env.step(int(action))\n",
    "            observation = torch.tensor(observation, dtype=torch.float)\n",
    "            reward_episode += reward\n",
    "            \n",
    "        env.close()\n",
    "        if render:\n",
    "            show_video(\"./gym-results\")\n",
    "            print(f'Reward: {reward_episode}')\n",
    "        return reward_episode"
   ]
  },
  {
   "cell_type": "markdown",
   "metadata": {
    "colab_type": "text",
    "id": "Qm9Rj2s5yFhF"
   },
   "source": [
    "**Q.8: Try out different hyperparameters (batch size, learning rate, optimizer, gamma) and identify how each one of them influence the learning.**"
   ]
  },
  {
   "cell_type": "code",
   "execution_count": 0,
   "metadata": {
    "colab": {},
    "colab_type": "code",
    "id": "5e734MaaDsal"
   },
   "outputs": [],
   "source": [
    "#@title Config A2C {display-mode: \"form\", run: \"auto\"}\n",
    "\n",
    "env_id = 'CartPole-v1'  #@param [\"CartPole-v1\", \"Acrobot-v1\", \"MountainCar-v0\"]\n",
    "value_learning_rate = 0.001  #@param {type: \"number\"}\n",
    "actor_learning_rate = 0.001  #@param {type: \"number\"}\n",
    "gamma = 1  #@param {type: \"number\"}\n",
    "entropy = 1  #@param {type: \"number\"}\n",
    "seed = 1  #@param {type: \"integer\"}\n",
    "#@markdown ---\n",
    "\n",
    "config_a2c = {\n",
    "    'env_id': env_id,\n",
    "    'gamma': gamma,\n",
    "    'seed': seed,\n",
    "    'value_network': {'learning_rate': value_learning_rate},\n",
    "    'actor_network': {'learning_rate': actor_learning_rate},\n",
    "    'entropy': entropy\n",
    "}\n",
    "\n",
    "print(\"Current config_a2c is:\")\n",
    "pprint(config_a2c)"
   ]
  },
  {
   "cell_type": "code",
   "execution_count": 0,
   "metadata": {
    "colab": {},
    "colab_type": "code",
    "id": "fG52hSe6yFhG"
   },
   "outputs": [],
   "source": [
    "agent = A2CAgent(config_a2c)\n",
    "rewards = agent.training_batch(1000, 256)"
   ]
  },
  {
   "cell_type": "code",
   "execution_count": 0,
   "metadata": {
    "colab": {},
    "colab_type": "code",
    "id": "gXmqUtuuyFhJ"
   },
   "outputs": [],
   "source": [
    "agent.evaluate(True);"
   ]
  },
  {
   "cell_type": "markdown",
   "metadata": {
    "colab_type": "text",
    "id": "iz4YuO-dyFhO"
   },
   "source": [
    "**Q.9: What are the strengths and drawbacks of this algorithm? How would you improve it?**"
   ]
  },
  {
   "cell_type": "markdown",
   "metadata": {
    "colab_type": "text",
    "id": "G7AFxgDv4orr"
   },
   "source": [
    "*Type your answer here*"
   ]
  },
  {
   "cell_type": "markdown",
   "metadata": {
    "colab_type": "text",
    "id": "CYidT03TyFhP"
   },
   "source": [
    "**Q.10: Compare the three algorithms (sample efficiency, stability, ...)**"
   ]
  },
  {
   "cell_type": "markdown",
   "metadata": {
    "colab_type": "text",
    "id": "rIKL7MUX4pq6"
   },
   "source": [
    "*Type your answer here*"
   ]
  },
  {
   "cell_type": "markdown",
   "metadata": {
    "colab_type": "text",
    "id": "NZULYBWcyFhQ"
   },
   "source": [
    "Make sure to try the algorithms with other environments!"
   ]
  }
 ],
 "metadata": {
  "colab": {
   "name": "01_REINFORCE+A2C.ipynb",
   "provenance": [],
   "toc_visible": true,
   "version": "0.3.2"
  },
  "kernelspec": {
   "display_name": "Python 3",
   "language": "python",
   "name": "python3"
  },
  "language_info": {
   "codemirror_mode": {
    "name": "ipython",
    "version": 3
   },
   "file_extension": ".py",
   "mimetype": "text/x-python",
   "name": "python",
   "nbconvert_exporter": "python",
   "pygments_lexer": "ipython3",
   "version": "3.6.7"
  }
 },
 "nbformat": 4,
 "nbformat_minor": 1
}
