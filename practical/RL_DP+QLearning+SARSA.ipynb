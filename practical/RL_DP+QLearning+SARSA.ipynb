{
 "cells": [
  {
   "cell_type": "markdown",
   "metadata": {
    "colab_type": "text",
    "id": "79lhHm24U7xN"
   },
   "source": [
    "##### Run this cell to set your notebook up (only mandatory if rlss2019-docker image is not used)"
   ]
  },
  {
   "cell_type": "code",
   "execution_count": 0,
   "metadata": {
    "colab": {},
    "colab_type": "code",
    "id": "JIZVE9LNU7xR"
   },
   "outputs": [],
   "source": [
    "!git clone https://github.com/yfletberliac/rlss2019-hands-on.git > /dev/null 2>&1"
   ]
  },
  {
   "cell_type": "markdown",
   "metadata": {
    "colab_type": "text",
    "id": "yaW9kB9aU7xY"
   },
   "source": [
    "# Reinforcement Learning - Practical Session 1\n",
    "\n",
    "\n",
    "## Review\n",
    "\n",
    "A Markov Decision Process (MDP) is defined as tuple $(S, A, P, r, \\gamma)$ where:\n",
    "* $S$ is the state space\n",
    "* $A$ is the action space \n",
    "* $P$ represents the transition probabilities, $P(s,a,s')$ is the probability of arriving at state $s'$ by taking action $a$ in state $s$\n",
    "* $r$ is the reward function such that $r(s,a,s')$ is the reward obtained by taking action $a$ in state $s$ and arriving at $s'$\n",
    "* $\\gamma$ is the discount factor\n",
    "\n",
    "A deterministic policy $\\pi$ is a mapping from $S$ to $A$: $\\pi(s)$ is the action to be taken at state $s$.\n",
    "\n",
    "The goal of an agent is to find the policy $\\pi$ that maximizes the expected sum of discounted rewards by following $\\pi$. The value of $\\pi$ is defined as\n",
    "\n",
    "$$\n",
    "V_\\pi(s) = E\\left[ \\sum_{t=0}^\\infty \\gamma^t r(S_t, A_t, S_{t+1}) | S_0 = s \\right]\n",
    "$$\n",
    "\n",
    "$V_\\pi(s)$ and the optimal value function, defined as $V^*(s) = \\max_\\pi V_\\pi(s)$, can be shown to satisfy the Bellman equations:\n",
    "\n",
    "$$\n",
    "V_\\pi(s) = \\sum_{s' \\in S}  P(s,\\pi(s),s')[r(s,\\pi(s),s') + \\gamma V_\\pi(s')]\n",
    "$$\n",
    "\n",
    "\n",
    "$$\n",
    "V^*(s) = \\max_{a\\in A} \\sum_{s' \\in S}  P(s,a,s')[r(s,a,s') + \\gamma V^*(s')]\n",
    "$$\n",
    "\n",
    "It is sometimes better to work with Q functions:\n",
    "\n",
    "$$\n",
    "Q_\\pi(s, a) = \\sum_{s' \\in S}  P(s,a,s')[r(s,a,s') + \\gamma  Q_\\pi(s', \\pi(s')]\n",
    "$$\n",
    "\n",
    "\n",
    "$$\n",
    "Q^*(s, a) = \\sum_{s' \\in S}  P(s,a,s')[r(s,a,s') + \\gamma \\max_{a'} Q^*(s', a')]\n",
    "$$\n",
    "\n",
    "such that $V_\\pi(s) = Q_\\pi(s, \\pi(s))$ and $V^*(s) = \\max_a Q^*(s, a)$.\n",
    "\n",
    "\n",
    "### Using value iteration to compute an optimal policy\n",
    "If the reward function and the transition probabilities are known (and the state and action spaces are not very large), we can use dynamic programming methods to compute $V^*(s)$. Value iteration is one way to do that.\n",
    "\n",
    "\n",
    "#####  Value iteration to compute $V^*(s)$\n",
    "$$\n",
    "T^* Q(s,a) = \\sum_{s'}P(s'|s,a)[ r(s, a, s') + \\gamma \\max_{a'} Q(s', a')]   \\\\\n",
    "$$\n",
    "\n",
    "\n",
    "* For any $Q_0$, let $Q_n = T^* Q_{n-1}$. \n",
    "* We have $\\lim_{n\\to\\infty}Q_n = Q^*$ and $Q^* = T^* Q^*$\n",
    "\n",
    "\n",
    "##### Finding the optimal policy from $V^\\pi(s)$\n",
    "\n",
    "The optimal policy $\\pi^*$ can be computed as\n",
    "\n",
    "$$\n",
    "\\pi^*(s) \\in \\arg\\max_{a\\in A} Q^*(s, a) =  \\arg\\max_{a\\in A} \\sum_{s' \\in S}  P(s,a,s')[r(s,a,s') + \\gamma V^*(s')]\n",
    "$$\n",
    "\n",
    "###  Q-Learning and SARSA \n",
    "\n",
    "When the reward function and the transition probabilities are *unknown*, we cannot use dynamic programming to find the optimal value function. Q-Learning and SARSA are stochastic approximation algorithms that allow us to estimate the value function by using only samples from the environment.\n",
    "\n",
    "#####  Q-learning\n",
    "\n",
    "The Q-Learning algorithm allows us to estimate the optimal Q function using only trajectories from the MDP obtained by following some exploration policy. \n",
    "\n",
    "Q-learning with $\\varepsilon$-greedy exploration does the following update at time $t$:\n",
    "\n",
    "1. In state $s_t$, take action $a_t$  such that $a_t$ is random with probability $\\varepsilon$ and $a_t \\in \\arg\\max_a \\hat{Q}_t(s_t,a) $ with probability $1-\\varepsilon$;\n",
    "2. Observe $s_{t+1}$ and reward $r_t$;\n",
    "3. Compute $\\delta_t = r_t + \\gamma \\max_a \\hat{Q}_t(s_{t+1}, a) - \\hat{Q}_t(s_t, a_t)$;\n",
    "4. Update $\\hat{Q}_{t+1}(s, a) = \\hat{Q}_t(s, a) + \\alpha_t(s,a)\\delta_t\\mathbb{1}\\{s=s_t, a=a_t\\}  $\n",
    "\n",
    "\n",
    "##### SARSA\n",
    "\n",
    "SARSA is similar to Q-learning, but it is an *on-policy* algorithm: it follows a (stochastic) policy $\\pi_Q$ and updates its estimate towards the value of this policy. One possible choice is:\n",
    "\n",
    "$$\n",
    "\\pi_Q(a|s) = \\frac{ \\exp(\\tau^{-1}Q(s,a))  }{\\sum_{a'}\\exp(\\tau^{-1}Q(s,a')) }\n",
    "$$\n",
    "where $\\tau$ is a \"temperature\" parameter: when $\\tau$ approaches 0, $\\pi_Q(a|s)$ approaches the greedy (deterministic) policy $a \\in \\arg\\max_{a'}Q(s,a')$.\n",
    "\n",
    "At each time $t$, SARSA keeps an estimate $\\hat{Q}_t$ of the true Q function and uses $\\pi_{\\hat{Q}_t}(a|s)$ to choose the action $a_t$. If $\\tau \\to 0$ with a proper rate as $t \\to \\infty$, $\\hat{Q}_t$ converges to $Q$ and $\\pi_{\\hat{Q}_t}(a|s)$ converges to the optimal policy $\\pi^*$. \n",
    "\n",
    "The SARSA update at time $t$ is done as follows:\n",
    "\n",
    "1. In state $s_t$, take action $a_t \\sim \\pi_{\\hat{Q}_t}(a|s_t)$ ;\n",
    "2. Observe $s_{t+1}$ and reward $r_t$;\n",
    "3. Sample the next action $a_{t+1} \\sim \\pi_{\\hat{Q}_t}(a|s_{t+1})$;\n",
    "4. Compute $\\delta_t = r_t + \\gamma \\hat{Q}_t(s_{t+1}, a_{t+1}) - \\hat{Q}_t(s_t, a_t)$\n",
    "5. Update $\\hat{Q}_{t+1}(s, a) = \\hat{Q}_t(s, a) + \\alpha_t(s,a)\\delta_t\\mathbb{1}\\{s=s_t, a=a_t\\}$\n",
    "\n",
    "## Goals\n",
    "\n",
    "Your goal is to implement Value Iteration, Q-Learning and SARSA for the [Frozen Lake](https://gym.openai.com/envs/FrozenLake-v0/) environment.\n",
    "\n",
    "* In exercise 1, you will implement the Bellman operator $T^*$ and verify its contraction property.\n",
    "* In exercise 2, you will implement value iteration.\n",
    "* In exercises 3 and 4, you will implement Q-Learning and SARSA.\n"
   ]
  },
  {
   "cell_type": "code",
   "execution_count": 1,
   "metadata": {
    "colab": {},
    "colab_type": "code",
    "id": "-N1Ylj1HU7xf"
   },
   "outputs": [],
   "source": [
    "import sys\n",
    "sys.path.insert(0, './rlss2019-hands-on/utils')\n",
    "# If using the Docker image, replace by:\n",
    "# sys.path.insert(0, '../utils')\n",
    "\n",
    "import numpy as np\n",
    "from scipy.special import softmax # for SARSA\n",
    "import matplotlib.pyplot as plt\n",
    "from frozen_lake import FrozenLake\n",
    "from test_env import ToyEnv1"
   ]
  },
  {
   "cell_type": "markdown",
   "metadata": {
    "colab_type": "text",
    "id": "ntNltx-_U7xj"
   },
   "source": [
    "# FrozenLake environment"
   ]
  },
  {
   "cell_type": "markdown",
   "metadata": {
    "colab_type": "text",
    "id": "qrQYUP1yU7xk"
   },
   "source": [
    "(You can use ToyEnv1 to debug your algorithms)"
   ]
  },
  {
   "cell_type": "code",
   "execution_count": 445,
   "metadata": {
    "colab": {},
    "colab_type": "code",
    "id": "wMmF3I8cU7xl",
    "outputId": "8f99db16-0344-41c1-f7d0-67b217000071"
   },
   "outputs": [
    {
     "name": "stdout",
     "output_type": "stream",
     "text": [
      "Set of states: [0, 1, 2, 3, 4, 5, 6, 7, 8, 9, 10, 11, 12, 13, 14, 15]\n",
      "Set of actions: [0, 1, 2, 3]\n",
      "Number of states:  16\n",
      "Number of actions:  4\n",
      "P has shape:  (16, 4, 16)\n",
      "discount factor:  0.95\n",
      "\n",
      "initial state:  0\n",
      "reward at (s=1, a=3,s'=2):  0.0\n",
      "\n",
      "random policy =  [1 0 0 0 3 0 1 1 0 0 3 0 0 0 1 1]\n",
      "(s, a, s', r):\n",
      "0 1 4 0.0\n",
      "4 3 0 0.0\n",
      "0 1 4 0.0\n",
      "4 3 0 0.0\n",
      "\n",
      "(S: starting point, safe) (F: frozen surface, safe) (H: hole, fall to your doom) (G: goal, where the frisbee is located)\n",
      "=================\n",
      "SFFF\n",
      "FHFH\n",
      "FFFH\n",
      "HFFG\n",
      "=================\n",
      "Current state 0\n"
     ]
    }
   ],
   "source": [
    "# Creating an instance of FrozenLake\n",
    "# --- If deterministic=False, transitions are stochastic. Try both cases!\n",
    "env = FrozenLake(gamma=0.95, deterministic=True, data_path=\"./rlss2019-hands-on/data\") \n",
    "\n",
    "# Small environment for debugging\n",
    "#env = ToyEnv1(gamma=0.95)\n",
    "\n",
    "# Useful attributes\n",
    "print(\"Set of states:\", env.states)\n",
    "print(\"Set of actions:\", env.actions)\n",
    "print(\"Number of states: \", env.Ns)\n",
    "print(\"Number of actions: \", env.Na)\n",
    "print(\"P has shape: \", env.P.shape)  # P[s, a, s'] = env.P[s, a, s']\n",
    "print(\"discount factor: \", env.gamma)\n",
    "print(\"\")\n",
    "\n",
    "# Usefult methods\n",
    "state = env.reset() # get initial state\n",
    "print(\"initial state: \", state)\n",
    "print(\"reward at (s=1, a=3,s'=2): \", env.reward_func(1,3,2))\n",
    "print(\"\")\n",
    "\n",
    "# A random policy\n",
    "policy = np.random.randint(env.Na, size = (env.Ns,))\n",
    "print(\"random policy = \", policy)\n",
    "\n",
    "# Interacting with the environment\n",
    "print(\"(s, a, s', r):\")\n",
    "for time in range(4):\n",
    "    action = policy[state]\n",
    "    next_state, reward, done, info = env.step(action)\n",
    "    print(state, action, next_state, reward)\n",
    "    if done:\n",
    "        break\n",
    "    state = next_state\n",
    "print(\"\")\n",
    "\n",
    "# Visualizing the environment\n",
    "try:\n",
    "    env.render()\n",
    "except:\n",
    "    pass # render not available"
   ]
  },
  {
   "cell_type": "markdown",
   "metadata": {
    "colab_type": "text",
    "id": "fO072knpU7xr"
   },
   "source": [
    "# Exercise 1: Bellman operator\n",
    "\n",
    "1. Write a function that takes an environment and a state-action value function $Q$ as input and returns the Bellman optimality operator applied to $Q$, $T^* Q$ and the greedy policy with respect to $Q$.\n",
    "3. Let $Q_1$ and $Q_2$ be state-action value functions. Verify the contraction property:  $\\Vert T^* Q_1 - T^* Q_2\\Vert \\leq \\gamma ||Q_1 - Q_2||$, where $||Q|| = \\max_{s,a} |Q(s,a)|$."
   ]
  },
  {
   "cell_type": "code",
   "execution_count": 446,
   "metadata": {
    "colab": {},
    "colab_type": "code",
    "id": "wZMfziJoU7xs"
   },
   "outputs": [],
   "source": [
    "# --------------\n",
    "# Your answer to 1.\n",
    "# --------------\n",
    "def bellman_operator(Q, env):\n",
    "    TQ = np.zeros_like(Q)\n",
    "    greedy_policy = [np.argmax(Q[s]) for s in range(env.Ns)]\n",
    "    for s1 in range(env.Ns): \n",
    "        for a in range(env.Na):\n",
    "            for s2 in range(env.Ns):\n",
    "                TQ[s1, a] += env.P[s1, a, s2]*(env.reward_func(s1, a, s2) + env.gamma*Q[s2, greedy_policy[s2]])\n",
    "\n",
    "            \n",
    "    greedy_policy = [np.argmax(TQ[s]) for s in range(env.Ns)]\n",
    "    return TQ, greedy_policy\n",
    "\n",
    "\n",
    "# def bellman_operator(Q, env):\n",
    "#     TQ = Q.copy()\n",
    "#     greedy_policy = [np.argmax(Q[s]) for s in range(env.Ns)]\n",
    "#     s1 = env.state\n",
    "#     a = greedy_policy[env.state]\n",
    "#     s2, r, _, _ = env.step(a)\n",
    "#     TQ = r + env.gamma*Q[s2,greedy_policy[s2]]    \n",
    "            \n",
    "#     greedy_policy = [np.argmax(Q[s]) for s in range(env.Ns)]\n",
    "#     return TQ, greedy_policy\n",
    "\n",
    "\n"
   ]
  },
  {
   "cell_type": "code",
   "execution_count": null,
   "metadata": {},
   "outputs": [],
   "source": []
  },
  {
   "cell_type": "code",
   "execution_count": 447,
   "metadata": {},
   "outputs": [],
   "source": [
    "Q = np.random.rand(env.Ns, env.Na)\n",
    "Q, gp = bellman_operator(Q, env)\n"
   ]
  },
  {
   "cell_type": "code",
   "execution_count": 448,
   "metadata": {
    "colab": {},
    "colab_type": "code",
    "id": "6jlcIqWFU7xv",
    "outputId": "3a1447ef-b0ea-4330-f38f-f7cb0b39fc70"
   },
   "outputs": [
    {
     "name": "stdout",
     "output_type": "stream",
     "text": [
      "Contraction of Bellman operator\n",
      "0.0006399448731998526 <= 0.9616264142391017\n"
     ]
    }
   ],
   "source": [
    "# --------------\n",
    "# Your answer to 2.\n",
    "# --------------\n",
    "print(\"Contraction of Bellman operator\")\n",
    "\n",
    "Q1 = np.asarray(np.random.rand(env.Ns, env.Na))\n",
    "Q2 = np.asarray(np.random.rand(env.Ns, env.Na))\n",
    "\n",
    "TQ1 = Q1.copy()\n",
    "TQ2 = Q2.copy()\n",
    "for i in range(100):\n",
    "    TQ1, _ = bellman_operator(TQ1, env)\n",
    "    TQ2, _ = bellman_operator(TQ2, env)\n",
    "\n",
    "    \n",
    "    \n",
    "print(np.max(np.abs(TQ1-TQ2)), \"<=\", np.max(np.abs(Q1-Q2)))"
   ]
  },
  {
   "cell_type": "markdown",
   "metadata": {
    "colab_type": "text",
    "id": "MGRmnPrYU7xz"
   },
   "source": [
    "# Exercise 2: Value iteration\n",
    "\n",
    "1. (Optimal Value function) Write a function that takes as input an initial state-action value function `Q0` and an environment `env` and returns a vector `Q` such that $||T^* Q -  Q ||_\\infty \\leq \\varepsilon $ and the greedy policy with respect to $Q$.\n",
    "2. Test the convergence of the function you implemented."
   ]
  },
  {
   "cell_type": "code",
   "execution_count": 449,
   "metadata": {
    "colab": {},
    "colab_type": "code",
    "id": "GzbWj0K_U7x1"
   },
   "outputs": [],
   "source": [
    "# --------------\n",
    "# Your answer to 1.\n",
    "# --------------\n",
    "def value_iteration(Q0, env, epsilon=1e-5):\n",
    "    \"\"\"\n",
    "    Finding the optimal value function. To be done!\n",
    "    \"\"\"\n",
    "    Q = Q0.copy()\n",
    "    while True:\n",
    "        TQ, policy = bellman_operator(Q, env)\n",
    "        if np.max(np.abs(TQ-Q)) <= epsilon:\n",
    "            break\n",
    "        Q = TQ\n",
    "    return Q, policy\n",
    "\n"
   ]
  },
  {
   "cell_type": "code",
   "execution_count": 450,
   "metadata": {
    "colab": {},
    "colab_type": "code",
    "id": "iKqpwR10U7x3"
   },
   "outputs": [
    {
     "data": {
      "text/plain": [
       "(array([[1.47018179e+01, 1.54755988e+01, 1.54755988e+01, 1.47018179e+01],\n",
       "        [1.47018179e+01, 9.89072290e-07, 1.62901051e+01, 1.54755988e+01],\n",
       "        [1.54755988e+01, 1.71474801e+01, 1.54755988e+01, 1.62901051e+01],\n",
       "        [1.62901051e+01, 9.83627752e-07, 1.54755988e+01, 1.54755988e+01],\n",
       "        [1.54755988e+01, 1.62901051e+01, 9.89072290e-07, 1.47018179e+01],\n",
       "        [9.89072290e-07, 9.89072290e-07, 9.89072290e-07, 9.89072290e-07],\n",
       "        [9.89072290e-07, 1.80499801e+01, 9.83627752e-07, 1.62901051e+01],\n",
       "        [9.83627752e-07, 9.83627752e-07, 9.83627752e-07, 9.83627752e-07],\n",
       "        [1.62901051e+01, 9.63337100e-07, 1.71474801e+01, 1.54755988e+01],\n",
       "        [1.62901051e+01, 1.80499801e+01, 1.80499801e+01, 9.89072290e-07],\n",
       "        [1.71474801e+01, 1.89999801e+01, 8.98357643e-07, 1.71474801e+01],\n",
       "        [8.98357643e-07, 8.98357643e-07, 8.98357643e-07, 8.98357643e-07],\n",
       "        [9.63337100e-07, 9.63337100e-07, 9.63337100e-07, 9.63337100e-07],\n",
       "        [9.63337100e-07, 1.80499801e+01, 1.89999801e+01, 1.71474801e+01],\n",
       "        [1.80499801e+01, 1.89999801e+01, 1.99999801e+01, 1.80499801e+01],\n",
       "        [1.99999801e+01, 1.99999801e+01, 1.99999801e+01, 1.99999801e+01]]),\n",
       " [1, 2, 1, 0, 1, 0, 1, 0, 2, 1, 1, 0, 0, 2, 2, 0])"
      ]
     },
     "execution_count": 450,
     "metadata": {},
     "output_type": "execute_result"
    }
   ],
   "source": [
    "\n",
    "Q0 = np.asarray(np.random.rand(env.Ns, env.Na))\n",
    "value_iteration(Q0, env, epsilon=1e-6)"
   ]
  },
  {
   "cell_type": "markdown",
   "metadata": {
    "colab_type": "text",
    "id": "jGYXRZrwU7x6"
   },
   "source": [
    "# Exercise 3: Q-Learning\n",
    "\n",
    "#####  Q-learning\n",
    "\n",
    "The Q-Learning algorithm allows us to estimate the optimal Q function using only trajectories from the MDP obtained by following some exploration policy. \n",
    "\n",
    "Q-learning with $\\varepsilon$-greedy exploration does the following update at time $t$:\n",
    "\n",
    "1. In state $s_t$, take action $a_t$  such that $a_t$ is random with probability $\\varepsilon$ and $a_t \\in \\arg\\max_a \\hat{Q}_t(s_t,a) $ with probability $1-\\varepsilon$ (**act function**);\n",
    "2. Observe $s_{t+1}$ and reward $r_t$ (**step in the environment**);\n",
    "3. Compute $\\delta_t = r_t + \\gamma \\max_a \\hat{Q}_t(s_{t+1}, a) - \\hat{Q}_t(s_t, a_t)$ (**to be done in .optimize()**) ;\n",
    "4. Update $\\hat{Q}_{t+1}(s, a) = \\hat{Q}_t(s, a) + \\alpha_t(s,a)\\delta_t\\mathbb{1}\\{s=s_t, a=a_t\\}$ (**in optimize too**)\n",
    "\n",
    "\n",
    "Implement Q-learning and test its convergence."
   ]
  },
  {
   "cell_type": "code",
   "execution_count": 611,
   "metadata": {
    "colab": {},
    "colab_type": "code",
    "id": "6zepYms2U7x7"
   },
   "outputs": [],
   "source": [
    "#-------------------------------\n",
    "# Q-Learning implementation\n",
    "# ------------------------------\n",
    "\n",
    "class QLearning:\n",
    "    \"\"\"\n",
    "    Implements Q-learning algorithm with epsilon-greedy exploration\n",
    "    \"\"\"\n",
    "    def __init__(self, env, gamma, lr, epsilon): # You can add more argument to your init (lr decay, eps decay)\n",
    "        self.Q = np.ones((env.Ns, env.Na))/5.0\n",
    "        self.visitation = np.zeros(self.Q.shape[0])\n",
    "        self.epsilon = epsilon\n",
    "        self.lr = lr\n",
    "        self.gamma = gamma\n",
    "        self.env = env\n",
    "        self.t = 1\n",
    "    \n",
    "    def act(self, state, greedy=False): # You don't have to use this template for your algorithm, those are just hints\n",
    "        \"\"\"\n",
    "        Takes a state as input and outputs an action (acting greedily or not with respect to the q function)\n",
    "        \"\"\"\n",
    "        if greedy or np.random.rand(1) > self.epsilon:\n",
    "            return np.argmax(self.Q[state])\n",
    "        else:\n",
    "            return np.random.randint(self.Q.shape[1])\n",
    "        self.visitation[state]+=1\n",
    "    \n",
    "    def optimize(self, state, action, next_state, reward):\n",
    "        \"\"\"\n",
    "        Takes (s, a, s', r) as input and optimize the Q function\n",
    "        \"\"\"\n",
    "        self.Q[state, action] += (reward + self.gamma*np.max(self.Q[next_state]) - self.Q[state,action])*self.lr\n",
    "        self.t+=1"
   ]
  },
  {
   "cell_type": "code",
   "execution_count": 622,
   "metadata": {},
   "outputs": [],
   "source": [
    "algo = QLearning(env, env.gamma, 5e-3, 1.)\n"
   ]
  },
  {
   "cell_type": "code",
   "execution_count": 634,
   "metadata": {
    "colab": {},
    "colab_type": "code",
    "id": "ie9t3NnKU7x-",
    "scrolled": true
   },
   "outputs": [
    {
     "name": "stdout",
     "output_type": "stream",
     "text": [
      "1.933763786610143e-05\n",
      "Q policy: [1, 2, 1, 0, 1, 0, 1, 1, 2, 1, 1, 1, 2, 2, 2, 0]\n",
      "Optimal policy: [1, 2, 1, 0, 1, 0, 1, 0, 2, 1, 1, 0, 0, 2, 2, 0]\n",
      "Diff: [0 0 0 0 0 0 0 1 0 0 0 1 2 0 0 0]\n"
     ]
    }
   ],
   "source": [
    "# ---------------------------\n",
    "# Convergence of Q-Learning\n",
    "# ---------------------------\n",
    "\n",
    "# Number of Q learning iterations\n",
    "n_steps = int(1e5)  \n",
    "#n_steps = 10\n",
    "\n",
    "Q0 = np.ones((env.Ns, env.Na))\n",
    "# You can use Q_opt from value iteration to check the correctness of q learning\n",
    "Q_opt, pi_opt = value_iteration(Q0, env, epsilon=1e-6)\n",
    "#       ^ and the optimal policy too\n",
    "\n",
    "reward = []\n",
    "algo.lr = 1\n",
    "for e in range(1000):\n",
    "    s = env.reset()\n",
    "    ep_reward = []\n",
    "    for i in range(20):\n",
    "        a = algo.act(s)\n",
    "        s2, r, _, d  = env.step(a)\n",
    "        algo.optimize(s, a, s2, r)\n",
    "        if d:\n",
    "            break\n",
    "        s = s2\n",
    "        ep_reward.append(r)\n",
    "    reward.append(ep_reward)\n",
    "\n",
    "reward = np.asarray(reward)\n",
    "print(np.max(np.abs(Q_opt-algo.Q)))\n",
    "\n",
    "print(\"Q policy:\", [np.argmax(algo.Q[s]) for s in range(env.Ns)])\n",
    "print(\"Optimal policy:\",  pi_opt)\n",
    "print(\"Diff:\", np.asarray([np.argmax(algo.Q[s]) for s in range(env.Ns)])-pi_opt)"
   ]
  },
  {
   "cell_type": "code",
   "execution_count": 635,
   "metadata": {},
   "outputs": [],
   "source": [
    "s = env.reset()"
   ]
  },
  {
   "cell_type": "code",
   "execution_count": 636,
   "metadata": {},
   "outputs": [
    {
     "name": "stdout",
     "output_type": "stream",
     "text": [
      "(S: starting point, safe) (F: frozen surface, safe) (H: hole, fall to your doom) (G: goal, where the frisbee is located)\n",
      "=================\n",
      "SFFF\n",
      "FHFH\n",
      "FFFH\n",
      "HFFG\n",
      "=================\n",
      "Current state 4\n"
     ]
    }
   ],
   "source": [
    "a = algo.act(s)\n",
    "s2, r, _, d  = env.step(a)\n",
    "env.render()\n",
    "s = s2"
   ]
  },
  {
   "cell_type": "code",
   "execution_count": 637,
   "metadata": {},
   "outputs": [
    {
     "data": {
      "text/plain": [
       "array([[1.47018185e+01, 1.54755994e+01, 1.54755994e+01, 1.47018185e+01],\n",
       "       [1.47018185e+01, 1.01777042e-06, 1.62901057e+01, 1.54755994e+01],\n",
       "       [1.54755994e+01, 1.71474807e+01, 1.54755994e+01, 1.62901057e+01],\n",
       "       [1.62901057e+01, 1.01777042e-06, 1.54755994e+01, 1.54755994e+01],\n",
       "       [1.54755994e+01, 1.62901057e+01, 1.01777042e-06, 1.47018185e+01],\n",
       "       [1.01777042e-06, 1.01777042e-06, 1.01777042e-06, 1.01777042e-06],\n",
       "       [1.01777042e-06, 1.80499807e+01, 1.01777042e-06, 1.62901057e+01],\n",
       "       [1.01777042e-06, 1.01777042e-06, 1.01777042e-06, 1.01777042e-06],\n",
       "       [1.62901057e+01, 1.01777042e-06, 1.71474807e+01, 1.54755994e+01],\n",
       "       [1.62901057e+01, 1.80499807e+01, 1.80499807e+01, 1.01777042e-06],\n",
       "       [1.71474807e+01, 1.89999807e+01, 1.01777042e-06, 1.71474807e+01],\n",
       "       [1.01777042e-06, 1.01777042e-06, 1.01777042e-06, 1.01777042e-06],\n",
       "       [1.01777042e-06, 1.01777042e-06, 1.01777042e-06, 1.01777042e-06],\n",
       "       [1.01777042e-06, 1.80499807e+01, 1.89999807e+01, 1.71474807e+01],\n",
       "       [1.80499807e+01, 1.89999807e+01, 1.99999807e+01, 1.80499807e+01],\n",
       "       [1.99999807e+01, 1.99999807e+01, 1.99999807e+01, 1.99999807e+01]])"
      ]
     },
     "execution_count": 637,
     "metadata": {},
     "output_type": "execute_result"
    }
   ],
   "source": [
    "Q_opt"
   ]
  },
  {
   "cell_type": "code",
   "execution_count": 638,
   "metadata": {},
   "outputs": [
    {
     "data": {
      "text/plain": [
       "<matplotlib.colorbar.Colorbar at 0x1191f6b70>"
      ]
     },
     "execution_count": 638,
     "metadata": {},
     "output_type": "execute_result"
    },
    {
     "data": {
      "image/png": "[encoded data removed]",
      "text/plain": [
       "<Figure size 432x288 with 2 Axes>"
      ]
     },
     "metadata": {
      "needs_background": "light"
     },
     "output_type": "display_data"
    }
   ],
   "source": [
    "plt.imshow(Q_opt)\n",
    "plt.colorbar()"
   ]
  },
  {
   "cell_type": "code",
   "execution_count": 639,
   "metadata": {},
   "outputs": [
    {
     "data": {
      "text/plain": [
       "<matplotlib.colorbar.Colorbar at 0x1193197f0>"
      ]
     },
     "execution_count": 639,
     "metadata": {},
     "output_type": "execute_result"
    },
    {
     "data": {
      "image/png": "[encoded data removed]",
      "text/plain": [
       "<Figure size 432x288 with 2 Axes>"
      ]
     },
     "metadata": {
      "needs_background": "light"
     },
     "output_type": "display_data"
    }
   ],
   "source": [
    "plt.imshow(algo.Q)\n",
    "plt.colorbar()"
   ]
  },
  {
   "cell_type": "code",
   "execution_count": 640,
   "metadata": {},
   "outputs": [
    {
     "data": {
      "text/plain": [
       "<matplotlib.colorbar.Colorbar at 0x11944bc50>"
      ]
     },
     "execution_count": 640,
     "metadata": {},
     "output_type": "execute_result"
    },
    {
     "data": {
      "image/png": "[encoded data removed]",
      "text/plain": [
       "<Figure size 432x288 with 2 Axes>"
      ]
     },
     "metadata": {
      "needs_background": "light"
     },
     "output_type": "display_data"
    }
   ],
   "source": [
    "plt.imshow(algo.Q-Q_opt)\n",
    "plt.colorbar()"
   ]
  },
  {
   "cell_type": "code",
   "execution_count": 473,
   "metadata": {},
   "outputs": [
    {
     "data": {
      "text/plain": [
       "(14000, 20)"
      ]
     },
     "execution_count": 473,
     "metadata": {},
     "output_type": "execute_result"
    }
   ],
   "source": [
    "reward.shape"
   ]
  },
  {
   "cell_type": "code",
   "execution_count": 472,
   "metadata": {},
   "outputs": [
    {
     "data": {
      "text/plain": [
       "[<matplotlib.lines.Line2D at 0x1176e69b0>]"
      ]
     },
     "execution_count": 472,
     "metadata": {},
     "output_type": "execute_result"
    },
    {
     "data": {
      "image/png": "[encoded data removed]",
      "text/plain": [
       "<Figure size 432x288 with 1 Axes>"
      ]
     },
     "metadata": {
      "needs_background": "light"
     },
     "output_type": "display_data"
    }
   ],
   "source": [
    "plt.plot(np.sum(reward, axis=1))"
   ]
  },
  {
   "cell_type": "code",
   "execution_count": 471,
   "metadata": {},
   "outputs": [
    {
     "data": {
      "text/plain": [
       "[<matplotlib.lines.Line2D at 0x118030ba8>]"
      ]
     },
     "execution_count": 471,
     "metadata": {},
     "output_type": "execute_result"
    },
    {
     "data": {
      "image/png": "[encoded data removed]",
      "text/plain": [
       "<Figure size 432x288 with 1 Axes>"
      ]
     },
     "metadata": {
      "needs_background": "light"
     },
     "output_type": "display_data"
    }
   ],
   "source": [
    "from matplotlib import pyplot as plt\n",
    "\n",
    "\n",
    "plt.plot(np.convolve(np.sum(reward, axis=1), np.ones(1)/1.))"
   ]
  },
  {
   "cell_type": "markdown",
   "metadata": {
    "colab_type": "text",
    "id": "7H8MssbrU7yB"
   },
   "source": [
    "# Exercise 4: SARSA\n",
    "\n",
    "SARSA is similar to Q-learning, but it is an *on-policy* algorithm: it follows a (stochastic) policy $\\pi_Q$ and updates its estimate towards the value of this policy. One possible choice is:\n",
    "\n",
    "$$\n",
    "\\pi_Q(a|s) = \\frac{ \\exp(\\tau^{-1}Q(s,a))  }{\\sum_{a'}\\exp(\\tau^{-1}Q(s,a')) }\n",
    "$$\n",
    "where $\\tau$ is a \"temperature\" parameter: when $\\tau$ approaches 0, $\\pi_Q(a|s)$ approaches the greedy (deterministic) policy $a \\in \\arg\\max_{a'}Q(s,a')$.\n",
    "\n",
    "At each time $t$, SARSA keeps an estimate $\\hat{Q}_t$ of the true Q function and uses $\\pi_{\\hat{Q}_t}(a|s)$ to choose the action $a_t$. If $\\tau \\to 0$ with a proper rate as $t \\to \\infty$, $\\hat{Q}_t$ converges to $Q$ and $\\pi_{\\hat{Q}_t}(a|s)$ converges to the optimal policy $\\pi^*$. \n",
    "\n",
    "The SARSA update at time $t$ is done as follows:\n",
    "\n",
    "1. In state $s_t$, take action $a_t \\sim \\pi_{\\hat{Q}_t}(a|s_t)$ ;\n",
    "2. Observe $s_{t+1}$ and reward $r_t$;\n",
    "3. Sample the next action $a_{t+1} \\sim \\pi_{\\hat{Q}_t}(a|s_{t+1})$;\n",
    "4. Compute $\\delta_t = r_t + \\gamma \\hat{Q}_t(s_{t+1}, a_{t+1}) - \\hat{Q}_t(s_t, a_t)$\n",
    "5. Update $\\hat{Q}_{t+1}(s, a) = \\hat{Q}_t(s, a) + \\alpha_t(s,a)\\delta_t\\mathbb{1}\\{s=s_t, a=a_t\\}$"
   ]
  },
  {
   "cell_type": "code",
   "execution_count": 0,
   "metadata": {
    "colab": {},
    "colab_type": "code",
    "id": "pMcjhJgHU7yC"
   },
   "outputs": [],
   "source": [
    "#-------------------------------\n",
    "# SARSA implementation\n",
    "# ------------------------------\n",
    "\n",
    "class Sarsa:\n",
    "    \"\"\"\n",
    "    Implements SARSA algorithm.\n",
    "    \"\"\"\n",
    "    def __init__(self, env, gamma, learning_rate=None, tau=1.0): # Again, those are suggestions, you can add more arguments\n",
    "        pass\n",
    "    def act():\n",
    "        pass\n",
    "    def optimize():\n",
    "        pass\n"
   ]
  },
  {
   "cell_type": "code",
   "execution_count": 0,
   "metadata": {
    "colab": {},
    "colab_type": "code",
    "id": "l5xwDoN4U7yG"
   },
   "outputs": [],
   "source": [
    "# ---------------------------\n",
    "# Convergence of SARSA\n",
    "# ---------------------------\n",
    "\n",
    "# Create SARSA object\n",
    "sarsa = Sarsa(env, gamma=env.gamma)\n",
    "\n",
    "# Again, you can use Q_opt and pi_opt from value_iteration to check sarsa's convergence. "
   ]
  },
  {
   "cell_type": "markdown",
   "metadata": {
    "colab_type": "text",
    "id": "v6Och_7yU7yI"
   },
   "source": [
    "How those two algorithms behave ? \n",
    "Do both of them find the optimal policy ?"
   ]
  },
  {
   "cell_type": "markdown",
   "metadata": {
    "colab_type": "text",
    "id": "MxCXUzRvU7yI"
   },
   "source": [
    "## Trying other algorithms\n",
    "\n",
    "\n",
    "### Policy iteration\n",
    "Policy iteration is another algorithm to find an optimal policy when the MDP is known:\n",
    "\n",
    "$$\n",
    "\\pi_{n} \\gets \\mathrm{greedy}(V_{\\pi_{n-1}}) \\\\\n",
    "V_{\\pi_n} \\gets \\mbox{policy-evaluation}(\\pi_n)\n",
    "$$\n",
    "For any arbitrary $\\pi_0$, $\\pi_n$ converges to $\\pi^*$.\n",
    "\n",
    "Implement policy iteration and compare it to value iteration.\n",
    "\n",
    "\n",
    "### Stochastic algorithms for policy evaluation\n",
    "\n",
    "Given a policy $\\pi$, implement different stochastic algorithms to estimate its value $V_\\pi$.\n",
    "\n",
    "#### Monte Carlo estimation\n",
    "\n",
    "$$\n",
    "V_\\pi(s) = E\\left[ \\sum_{t=0}^\\infty \\gamma^t r(S_t, A_t, S_{t+1}) | S_0 = s \\right] \\approx \\frac{1}{N} \\sum_{i=1}^N \\sum_{t=0}^{T} \\gamma^t r(s_t^i, a_t^i, s_{t+1}^i) \n",
    "$$\n",
    "\n",
    "\n",
    "#### TD(0): \n",
    "\n",
    "Given a trajectory $ (x_t, x_{t+1}, r_t)_{t\\geq 0} $ , the $t$-th step of TD(0) performs the following calculations:\n",
    "\n",
    "$ \\delta_t = r_t + \\gamma \\hat{V}_t(x_{t+1}) - \\hat{V}_t(x_t)$\n",
    "\n",
    "$ \\hat{V}_{t+1}(x) = \\hat{V}_t(x) + \\alpha_t(x)\\delta_t\\mathbb{1}\\{x=x_t\\}  $ \n",
    "\n",
    "where $\\alpha_t(x_t)$ is the step size and $\\delta_t$ is called *temporal difference*.\n",
    "\n",
    "#### TD($\\lambda$):\n",
    "\n",
    "Given a trajectory $ (x_t, x_{t+1}, r_t)_{t\\geq 0} $, the $t$-th step of TD($\\lambda$) performs the following calculations:\n",
    "\n",
    "$ \\delta_t = r_t + \\gamma \\hat{V}_t(x_{t+1}) - \\hat{V}_t(x_t)$\n",
    "\n",
    "$ z_{t+1}(x) = \\mathbb{1}\\{x=x_t\\} + \\gamma \\lambda z_t(x)  $ \n",
    "\n",
    "$ \\hat{V}_{t+1}(x) = \\hat{V}_t(x) + \\alpha_t(x)\\delta_t z_{t+1}(x)  $ \n",
    "\n",
    "$ z_0(x) = 0 $\n",
    "\n",
    "for all states $x$."
   ]
  },
  {
   "cell_type": "code",
   "execution_count": 0,
   "metadata": {
    "colab": {},
    "colab_type": "code",
    "id": "sDz1KngyU7yJ"
   },
   "outputs": [],
   "source": []
  }
 ],
 "metadata": {
  "colab": {
   "name": "RL.DP+QLearning+SARSA.ipynb",
   "provenance": [],
   "version": "0.3.2"
  },
  "kernelspec": {
   "display_name": "Python 3",
   "language": "python",
   "name": "python3"
  },
  "language_info": {
   "codemirror_mode": {
    "name": "ipython",
    "version": 3
   },
   "file_extension": ".py",
   "mimetype": "text/x-python",
   "name": "python",
   "nbconvert_exporter": "python",
   "pygments_lexer": "ipython3",
   "version": "3.6.7"
  }
 },
 "nbformat": 4,
 "nbformat_minor": 1
}
